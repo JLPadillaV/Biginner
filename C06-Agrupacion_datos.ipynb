{
 "cells": [
  {
   "cell_type": "markdown",
   "metadata": {},
   "source": [
    "# José Luis Padilla "
   ]
  },
  {
   "cell_type": "markdown",
   "metadata": {
    "colab_type": "text",
    "id": "K2teubACAkRb"
   },
   "source": [
    "# Agregación de datos por categoría"
   ]
  },
  {
   "cell_type": "code",
   "execution_count": 1,
   "metadata": {
    "colab": {},
    "colab_type": "code",
    "id": "zwuY-TMgAkRc"
   },
   "outputs": [],
   "source": [
    "import numpy as np\n",
    "import pandas as pd"
   ]
  },
  {
   "cell_type": "code",
   "execution_count": 2,
   "metadata": {
    "colab": {},
    "colab_type": "code",
    "id": "0r6-BV-FAkRi"
   },
   "outputs": [],
   "source": [
    "gender = [\"Male\", \"Female\"]\n",
    "income = [\"Poor\", \"Middle Class\", \"Rich\"]"
   ]
  },
  {
   "cell_type": "code",
   "execution_count": 3,
   "metadata": {
    "colab": {},
    "colab_type": "code",
    "id": "dUOu8paRAkRl"
   },
   "outputs": [],
   "source": [
    "n = 500\n",
    "\n",
    "gender_data = []\n",
    "income_data = []\n",
    "\n",
    "for i in range(0,500):\n",
    "    gender_data.append(np.random.choice(gender))\n",
    "    income_data.append(np.random.choice(income))"
   ]
  },
  {
   "cell_type": "code",
   "execution_count": 4,
   "metadata": {
    "colab": {
     "base_uri": "https://localhost:8080/",
     "height": 170
    },
    "colab_type": "code",
    "id": "wz2m3fpuAkRo",
    "outputId": "fe626221-e112-4cdd-cfb3-6d68a36045b8"
   },
   "outputs": [
    {
     "data": {
      "text/plain": [
       "['Male',\n",
       " 'Female',\n",
       " 'Female',\n",
       " 'Female',\n",
       " 'Male',\n",
       " 'Male',\n",
       " 'Female',\n",
       " 'Female',\n",
       " 'Male']"
      ]
     },
     "execution_count": 4,
     "metadata": {},
     "output_type": "execute_result"
    }
   ],
   "source": [
    "gender_data[1:10]"
   ]
  },
  {
   "cell_type": "code",
   "execution_count": 5,
   "metadata": {
    "colab": {
     "base_uri": "https://localhost:8080/",
     "height": 170
    },
    "colab_type": "code",
    "id": "CafW2UzYAkRr",
    "outputId": "748ee054-8376-4ff8-c445-9d4734231046"
   },
   "outputs": [
    {
     "data": {
      "text/plain": [
       "['Poor',\n",
       " 'Rich',\n",
       " 'Middle Class',\n",
       " 'Poor',\n",
       " 'Middle Class',\n",
       " 'Middle Class',\n",
       " 'Middle Class',\n",
       " 'Poor',\n",
       " 'Middle Class']"
      ]
     },
     "execution_count": 5,
     "metadata": {},
     "output_type": "execute_result"
    }
   ],
   "source": [
    "income_data[1:10]"
   ]
  },
  {
   "cell_type": "code",
   "execution_count": 6,
   "metadata": {
    "colab": {},
    "colab_type": "code",
    "id": "Q53rIw03AkRu"
   },
   "outputs": [],
   "source": [
    "#Z -> N(0,1)\n",
    "#N(m, s) -> m + s * Z\n",
    "height = 160 + 30 * np.random.randn(n) # estatura media 160 variabilidad de 30 cm arriba abajo\n",
    "weight = 65 + 25 * np.random.randn(n) # peso de 65 con una variabilidad de 25 arriba abajo\n",
    "age = 30 + 12 * np.random.randn(n) # anos 30 12 arriba y abajo\n",
    "income = 18000 + 3500 * np.random.rand(n) # ingresos entre 18 y 35 mil"
   ]
  },
  {
   "cell_type": "code",
   "execution_count": 7,
   "metadata": {
    "colab": {},
    "colab_type": "code",
    "id": "tUaeOrqrAkRv"
   },
   "outputs": [],
   "source": [
    "# generamos el DataFrame\n",
    "data = pd.DataFrame(\n",
    "    {\n",
    "        \"Gender\" : gender_data,\n",
    "        \"Economic Status\" : income_data,\n",
    "        \"Height\" : height,\n",
    "        \"Weight\" : weight,\n",
    "        \"Age\" : age,\n",
    "        \"Income\" : income\n",
    "    }\n",
    ")"
   ]
  },
  {
   "cell_type": "code",
   "execution_count": 8,
   "metadata": {
    "colab": {
     "base_uri": "https://localhost:8080/",
     "height": 204
    },
    "colab_type": "code",
    "id": "MXeeNF_YAkRx",
    "outputId": "885503b1-4c71-4dea-f6cf-0aefe3c893e6"
   },
   "outputs": [
    {
     "data": {
      "text/html": [
       "<div>\n",
       "<style scoped>\n",
       "    .dataframe tbody tr th:only-of-type {\n",
       "        vertical-align: middle;\n",
       "    }\n",
       "\n",
       "    .dataframe tbody tr th {\n",
       "        vertical-align: top;\n",
       "    }\n",
       "\n",
       "    .dataframe thead th {\n",
       "        text-align: right;\n",
       "    }\n",
       "</style>\n",
       "<table border=\"1\" class=\"dataframe\">\n",
       "  <thead>\n",
       "    <tr style=\"text-align: right;\">\n",
       "      <th></th>\n",
       "      <th>Gender</th>\n",
       "      <th>Economic Status</th>\n",
       "      <th>Height</th>\n",
       "      <th>Weight</th>\n",
       "      <th>Age</th>\n",
       "      <th>Income</th>\n",
       "    </tr>\n",
       "  </thead>\n",
       "  <tbody>\n",
       "    <tr>\n",
       "      <th>0</th>\n",
       "      <td>Male</td>\n",
       "      <td>Rich</td>\n",
       "      <td>176.220185</td>\n",
       "      <td>113.694813</td>\n",
       "      <td>27.334143</td>\n",
       "      <td>18478.005491</td>\n",
       "    </tr>\n",
       "    <tr>\n",
       "      <th>1</th>\n",
       "      <td>Male</td>\n",
       "      <td>Poor</td>\n",
       "      <td>162.932536</td>\n",
       "      <td>99.865824</td>\n",
       "      <td>21.851728</td>\n",
       "      <td>18645.318805</td>\n",
       "    </tr>\n",
       "    <tr>\n",
       "      <th>2</th>\n",
       "      <td>Female</td>\n",
       "      <td>Rich</td>\n",
       "      <td>183.862834</td>\n",
       "      <td>67.244074</td>\n",
       "      <td>24.715682</td>\n",
       "      <td>19628.721774</td>\n",
       "    </tr>\n",
       "    <tr>\n",
       "      <th>3</th>\n",
       "      <td>Female</td>\n",
       "      <td>Middle Class</td>\n",
       "      <td>124.001853</td>\n",
       "      <td>83.667837</td>\n",
       "      <td>36.805751</td>\n",
       "      <td>19725.962136</td>\n",
       "    </tr>\n",
       "    <tr>\n",
       "      <th>4</th>\n",
       "      <td>Female</td>\n",
       "      <td>Poor</td>\n",
       "      <td>192.678320</td>\n",
       "      <td>65.885088</td>\n",
       "      <td>32.107050</td>\n",
       "      <td>19837.717796</td>\n",
       "    </tr>\n",
       "  </tbody>\n",
       "</table>\n",
       "</div>"
      ],
      "text/plain": [
       "   Gender Economic Status      Height      Weight        Age        Income\n",
       "0    Male            Rich  176.220185  113.694813  27.334143  18478.005491\n",
       "1    Male            Poor  162.932536   99.865824  21.851728  18645.318805\n",
       "2  Female            Rich  183.862834   67.244074  24.715682  19628.721774\n",
       "3  Female    Middle Class  124.001853   83.667837  36.805751  19725.962136\n",
       "4  Female            Poor  192.678320   65.885088  32.107050  19837.717796"
      ]
     },
     "execution_count": 8,
     "metadata": {},
     "output_type": "execute_result"
    }
   ],
   "source": [
    "# los datos no son muy coerentes ya que son creados de manera aleatoria \"dummy\" pero son para realizar operaciones de practica\n",
    "data.head()"
   ]
  },
  {
   "cell_type": "markdown",
   "metadata": {
    "colab_type": "text",
    "id": "lcIDvGCfAkRy"
   },
   "source": [
    "## Agrupación de datos"
   ]
  },
  {
   "cell_type": "code",
   "execution_count": 9,
   "metadata": {
    "colab": {},
    "colab_type": "code",
    "id": "b0ejXt6rAkRz"
   },
   "outputs": [],
   "source": [
    "grouped_gender = data.groupby(\"Gender\") # agrupamos por genero"
   ]
  },
  {
   "cell_type": "code",
   "execution_count": 10,
   "metadata": {
    "colab": {
     "base_uri": "https://localhost:8080/",
     "height": 153
    },
    "colab_type": "code",
    "id": "aEiG5AFrAkR0",
    "outputId": "474eeb1c-4efa-4ecf-ba8e-1622a786f9cc"
   },
   "outputs": [
    {
     "data": {
      "text/plain": [
       "{'Female': [2, 3, 4, 7, 8, 10, 12, 15, 16, 19, 20, 22, 24, 25, 26, 27, 28, 29, 30, 32, 33, 36, 37, 38, 39, 41, 42, 44, 45, 47, 48, 49, 51, 53, 55, 57, 59, 60, 63, 64, 68, 69, 71, 74, 75, 80, 81, 84, 87, 88, 89, 92, 93, 94, 95, 97, 99, 101, 104, 106, 107, 108, 113, 114, 117, 119, 121, 124, 125, 126, 127, 128, 134, 135, 137, 138, 140, 141, 144, 145, 146, 148, 149, 150, 151, 154, 158, 159, 160, 162, 163, 166, 167, 181, 182, 183, 185, 188, 189, 190, ...], 'Male': [0, 1, 5, 6, 9, 11, 13, 14, 17, 18, 21, 23, 31, 34, 35, 40, 43, 46, 50, 52, 54, 56, 58, 61, 62, 65, 66, 67, 70, 72, 73, 76, 77, 78, 79, 82, 83, 85, 86, 90, 91, 96, 98, 100, 102, 103, 105, 109, 110, 111, 112, 115, 116, 118, 120, 122, 123, 129, 130, 131, 132, 133, 136, 139, 142, 143, 147, 152, 153, 155, 156, 157, 161, 164, 165, 168, 169, 170, 171, 172, 173, 174, 175, 176, 177, 178, 179, 180, 184, 186, 187, 192, 194, 195, 196, 197, 198, 203, 204, 207, ...]}"
      ]
     },
     "execution_count": 10,
     "metadata": {},
     "output_type": "execute_result"
    }
   ],
   "source": [
    "grouped_gender.groups # consultamos los grupos y como son muy grandes haremos un bucle abajo"
   ]
  },
  {
   "cell_type": "code",
   "execution_count": 11,
   "metadata": {
    "colab": {
     "base_uri": "https://localhost:8080/",
     "height": 527
    },
    "colab_type": "code",
    "id": "gSVmrowTAkR2",
    "outputId": "95eea914-8b1e-4c3f-ba12-3d28e821ff4b"
   },
   "outputs": [
    {
     "name": "stdout",
     "output_type": "stream",
     "text": [
      "Female\n",
      "     Gender Economic Status      Height      Weight        Age        Income\n",
      "2    Female            Rich  183.862834   67.244074  24.715682  19628.721774\n",
      "3    Female    Middle Class  124.001853   83.667837  36.805751  19725.962136\n",
      "4    Female            Poor  192.678320   65.885088  32.107050  19837.717796\n",
      "7    Female    Middle Class  172.518571   53.841383  30.400145  18316.312722\n",
      "8    Female            Poor  179.990953   27.369654   3.399136  21121.745779\n",
      "..      ...             ...         ...         ...        ...           ...\n",
      "492  Female            Poor  238.614734   59.930729  20.886729  19289.415292\n",
      "493  Female    Middle Class  150.864746  101.172282  37.003016  19618.640776\n",
      "496  Female            Rich  129.928247   29.165575  19.852472  18884.920704\n",
      "497  Female            Rich  146.418830   37.566346  27.063798  18762.825077\n",
      "498  Female    Middle Class  206.581134   68.073077  25.705735  18418.007601\n",
      "\n",
      "[256 rows x 6 columns]\n",
      "Male\n",
      "    Gender Economic Status      Height      Weight        Age        Income\n",
      "0     Male            Rich  176.220185  113.694813  27.334143  18478.005491\n",
      "1     Male            Poor  162.932536   99.865824  21.851728  18645.318805\n",
      "5     Male    Middle Class  180.106162   95.160925  25.657347  20283.989203\n",
      "6     Male    Middle Class  160.770690  102.483309  34.950477  20446.848956\n",
      "9     Male    Middle Class  179.394286   58.358476  20.375937  21482.219297\n",
      "..     ...             ...         ...         ...        ...           ...\n",
      "489   Male    Middle Class  136.113608   78.116833  29.187212  21010.056616\n",
      "490   Male            Poor  224.206979   51.533163  51.259073  18577.545530\n",
      "494   Male            Rich  179.102967   52.092475  19.449831  20102.511949\n",
      "495   Male            Rich  177.798504   41.626966  37.538020  18884.661293\n",
      "499   Male            Poor  119.390657   34.001503  24.086701  20501.203056\n",
      "\n",
      "[244 rows x 6 columns]\n"
     ]
    }
   ],
   "source": [
    "# bucle para ver los dos grupos\n",
    "for names, groups in grouped_gender:\n",
    "    print(names)\n",
    "    print(groups)"
   ]
  },
  {
   "cell_type": "code",
   "execution_count": 12,
   "metadata": {
    "colab": {
     "base_uri": "https://localhost:8080/",
     "height": 419
    },
    "colab_type": "code",
    "id": "-eV8DVorAkR3",
    "outputId": "19c4888f-1ffc-47aa-9550-99fc166a5a93"
   },
   "outputs": [
    {
     "data": {
      "text/html": [
       "<div>\n",
       "<style scoped>\n",
       "    .dataframe tbody tr th:only-of-type {\n",
       "        vertical-align: middle;\n",
       "    }\n",
       "\n",
       "    .dataframe tbody tr th {\n",
       "        vertical-align: top;\n",
       "    }\n",
       "\n",
       "    .dataframe thead th {\n",
       "        text-align: right;\n",
       "    }\n",
       "</style>\n",
       "<table border=\"1\" class=\"dataframe\">\n",
       "  <thead>\n",
       "    <tr style=\"text-align: right;\">\n",
       "      <th></th>\n",
       "      <th>Gender</th>\n",
       "      <th>Economic Status</th>\n",
       "      <th>Height</th>\n",
       "      <th>Weight</th>\n",
       "      <th>Age</th>\n",
       "      <th>Income</th>\n",
       "    </tr>\n",
       "  </thead>\n",
       "  <tbody>\n",
       "    <tr>\n",
       "      <th>2</th>\n",
       "      <td>Female</td>\n",
       "      <td>Rich</td>\n",
       "      <td>183.862834</td>\n",
       "      <td>67.244074</td>\n",
       "      <td>24.715682</td>\n",
       "      <td>19628.721774</td>\n",
       "    </tr>\n",
       "    <tr>\n",
       "      <th>3</th>\n",
       "      <td>Female</td>\n",
       "      <td>Middle Class</td>\n",
       "      <td>124.001853</td>\n",
       "      <td>83.667837</td>\n",
       "      <td>36.805751</td>\n",
       "      <td>19725.962136</td>\n",
       "    </tr>\n",
       "    <tr>\n",
       "      <th>4</th>\n",
       "      <td>Female</td>\n",
       "      <td>Poor</td>\n",
       "      <td>192.678320</td>\n",
       "      <td>65.885088</td>\n",
       "      <td>32.107050</td>\n",
       "      <td>19837.717796</td>\n",
       "    </tr>\n",
       "    <tr>\n",
       "      <th>7</th>\n",
       "      <td>Female</td>\n",
       "      <td>Middle Class</td>\n",
       "      <td>172.518571</td>\n",
       "      <td>53.841383</td>\n",
       "      <td>30.400145</td>\n",
       "      <td>18316.312722</td>\n",
       "    </tr>\n",
       "    <tr>\n",
       "      <th>8</th>\n",
       "      <td>Female</td>\n",
       "      <td>Poor</td>\n",
       "      <td>179.990953</td>\n",
       "      <td>27.369654</td>\n",
       "      <td>3.399136</td>\n",
       "      <td>21121.745779</td>\n",
       "    </tr>\n",
       "    <tr>\n",
       "      <th>...</th>\n",
       "      <td>...</td>\n",
       "      <td>...</td>\n",
       "      <td>...</td>\n",
       "      <td>...</td>\n",
       "      <td>...</td>\n",
       "      <td>...</td>\n",
       "    </tr>\n",
       "    <tr>\n",
       "      <th>492</th>\n",
       "      <td>Female</td>\n",
       "      <td>Poor</td>\n",
       "      <td>238.614734</td>\n",
       "      <td>59.930729</td>\n",
       "      <td>20.886729</td>\n",
       "      <td>19289.415292</td>\n",
       "    </tr>\n",
       "    <tr>\n",
       "      <th>493</th>\n",
       "      <td>Female</td>\n",
       "      <td>Middle Class</td>\n",
       "      <td>150.864746</td>\n",
       "      <td>101.172282</td>\n",
       "      <td>37.003016</td>\n",
       "      <td>19618.640776</td>\n",
       "    </tr>\n",
       "    <tr>\n",
       "      <th>496</th>\n",
       "      <td>Female</td>\n",
       "      <td>Rich</td>\n",
       "      <td>129.928247</td>\n",
       "      <td>29.165575</td>\n",
       "      <td>19.852472</td>\n",
       "      <td>18884.920704</td>\n",
       "    </tr>\n",
       "    <tr>\n",
       "      <th>497</th>\n",
       "      <td>Female</td>\n",
       "      <td>Rich</td>\n",
       "      <td>146.418830</td>\n",
       "      <td>37.566346</td>\n",
       "      <td>27.063798</td>\n",
       "      <td>18762.825077</td>\n",
       "    </tr>\n",
       "    <tr>\n",
       "      <th>498</th>\n",
       "      <td>Female</td>\n",
       "      <td>Middle Class</td>\n",
       "      <td>206.581134</td>\n",
       "      <td>68.073077</td>\n",
       "      <td>25.705735</td>\n",
       "      <td>18418.007601</td>\n",
       "    </tr>\n",
       "  </tbody>\n",
       "</table>\n",
       "<p>256 rows × 6 columns</p>\n",
       "</div>"
      ],
      "text/plain": [
       "     Gender Economic Status      Height      Weight        Age        Income\n",
       "2    Female            Rich  183.862834   67.244074  24.715682  19628.721774\n",
       "3    Female    Middle Class  124.001853   83.667837  36.805751  19725.962136\n",
       "4    Female            Poor  192.678320   65.885088  32.107050  19837.717796\n",
       "7    Female    Middle Class  172.518571   53.841383  30.400145  18316.312722\n",
       "8    Female            Poor  179.990953   27.369654   3.399136  21121.745779\n",
       "..      ...             ...         ...         ...        ...           ...\n",
       "492  Female            Poor  238.614734   59.930729  20.886729  19289.415292\n",
       "493  Female    Middle Class  150.864746  101.172282  37.003016  19618.640776\n",
       "496  Female            Rich  129.928247   29.165575  19.852472  18884.920704\n",
       "497  Female            Rich  146.418830   37.566346  27.063798  18762.825077\n",
       "498  Female    Middle Class  206.581134   68.073077  25.705735  18418.007601\n",
       "\n",
       "[256 rows x 6 columns]"
      ]
     },
     "execution_count": 12,
     "metadata": {},
     "output_type": "execute_result"
    }
   ],
   "source": [
    "grouped_gender.get_group(\"Female\") # con esto tenemos un df con solo el grupo mujeres"
   ]
  },
  {
   "cell_type": "code",
   "execution_count": 13,
   "metadata": {
    "colab": {},
    "colab_type": "code",
    "id": "cSzGIkkTAkR4"
   },
   "outputs": [],
   "source": [
    "double_group = data.groupby([\"Gender\", \"Economic Status\"]) # agrupamos en un grupo doble"
   ]
  },
  {
   "cell_type": "code",
   "execution_count": 14,
   "metadata": {
    "colab": {
     "base_uri": "https://localhost:8080/",
     "height": 34
    },
    "colab_type": "code",
    "id": "ZQLuFUejAkR6",
    "outputId": "d42b8dad-d4aa-4be4-ee8c-71e6f15568f2"
   },
   "outputs": [
    {
     "data": {
      "text/plain": [
       "6"
      ]
     },
     "execution_count": 14,
     "metadata": {},
     "output_type": "execute_result"
    }
   ],
   "source": [
    "len(double_group) # vemos la longitud de estos dos grupos"
   ]
  },
  {
   "cell_type": "code",
   "execution_count": 15,
   "metadata": {
    "colab": {
     "base_uri": "https://localhost:8080/",
     "height": 1000
    },
    "colab_type": "code",
    "id": "Eho6KDzUAkR7",
    "outputId": "a641a83c-cdcd-49d2-8c9b-c7f333a246d1"
   },
   "outputs": [
    {
     "name": "stdout",
     "output_type": "stream",
     "text": [
      "('Female', 'Middle Class')\n",
      "     Gender Economic Status      Height      Weight        Age        Income\n",
      "3    Female    Middle Class  124.001853   83.667837  36.805751  19725.962136\n",
      "7    Female    Middle Class  172.518571   53.841383  30.400145  18316.312722\n",
      "15   Female    Middle Class  152.527747   12.006136  31.382202  19393.298750\n",
      "16   Female    Middle Class  176.710520   31.915404  37.893145  19654.857116\n",
      "19   Female    Middle Class   85.706136   81.864602  13.012810  19748.928884\n",
      "..      ...             ...         ...         ...        ...           ...\n",
      "476  Female    Middle Class  161.703234   63.918140  26.343506  18193.811534\n",
      "480  Female    Middle Class  239.334989   36.647914  37.192771  21437.216102\n",
      "491  Female    Middle Class  173.157291   74.556229  28.343933  21176.790335\n",
      "493  Female    Middle Class  150.864746  101.172282  37.003016  19618.640776\n",
      "498  Female    Middle Class  206.581134   68.073077  25.705735  18418.007601\n",
      "\n",
      "[80 rows x 6 columns]\n",
      "('Female', 'Poor')\n",
      "     Gender Economic Status      Height      Weight        Age        Income\n",
      "4    Female            Poor  192.678320   65.885088  32.107050  19837.717796\n",
      "8    Female            Poor  179.990953   27.369654   3.399136  21121.745779\n",
      "10   Female            Poor  205.638665  101.152712  31.669197  18435.120646\n",
      "12   Female            Poor  160.848599   75.865231  25.943084  20037.023593\n",
      "22   Female            Poor  172.059511  106.476022  51.615840  19852.685981\n",
      "..      ...             ...         ...         ...        ...           ...\n",
      "472  Female            Poor  139.760112   61.135246  55.033464  18347.139456\n",
      "474  Female            Poor  104.144449   80.063311  26.376816  20253.426485\n",
      "484  Female            Poor  210.857233   54.522600  33.776174  21298.221048\n",
      "485  Female            Poor  173.160181   82.939009  30.370746  19718.916046\n",
      "492  Female            Poor  238.614734   59.930729  20.886729  19289.415292\n",
      "\n",
      "[99 rows x 6 columns]\n",
      "('Female', 'Rich')\n",
      "     Gender Economic Status      Height      Weight        Age        Income\n",
      "2    Female            Rich  183.862834   67.244074  24.715682  19628.721774\n",
      "27   Female            Rich  211.169778   79.861666  24.625132  18218.960218\n",
      "29   Female            Rich  149.938323   52.764334  26.742709  18369.149409\n",
      "30   Female            Rich  152.096374   26.685156  15.027941  20225.757453\n",
      "36   Female            Rich  167.262246  117.839614  21.897390  18789.588280\n",
      "..      ...             ...         ...         ...        ...           ...\n",
      "467  Female            Rich  144.690571   42.331809  44.994048  20304.396035\n",
      "469  Female            Rich  108.800725   34.729674   6.446399  18261.925440\n",
      "479  Female            Rich  196.496624   76.457680  42.567332  18718.456967\n",
      "496  Female            Rich  129.928247   29.165575  19.852472  18884.920704\n",
      "497  Female            Rich  146.418830   37.566346  27.063798  18762.825077\n",
      "\n",
      "[77 rows x 6 columns]\n",
      "('Male', 'Middle Class')\n",
      "    Gender Economic Status      Height      Weight        Age        Income\n",
      "5     Male    Middle Class  180.106162   95.160925  25.657347  20283.989203\n",
      "6     Male    Middle Class  160.770690  102.483309  34.950477  20446.848956\n",
      "9     Male    Middle Class  179.394286   58.358476  20.375937  21482.219297\n",
      "14    Male    Middle Class  149.784310   66.616161  40.976236  19169.637551\n",
      "21    Male    Middle Class  208.418158   96.771541  41.291579  18138.819639\n",
      "..     ...             ...         ...         ...        ...           ...\n",
      "475   Male    Middle Class  138.418014   87.743342  41.206232  19291.252536\n",
      "477   Male    Middle Class  170.016754   65.400218  34.697038  19076.206175\n",
      "478   Male    Middle Class  213.414304   79.325943  17.561215  20331.376830\n",
      "483   Male    Middle Class  188.741464   73.475740  12.729899  19156.595424\n",
      "489   Male    Middle Class  136.113608   78.116833  29.187212  21010.056616\n",
      "\n",
      "[85 rows x 6 columns]\n",
      "('Male', 'Poor')\n",
      "    Gender Economic Status      Height      Weight        Age        Income\n",
      "1     Male            Poor  162.932536   99.865824  21.851728  18645.318805\n",
      "11    Male            Poor   79.821908   50.015218  26.592114  18176.676424\n",
      "17    Male            Poor  225.372903  114.334869  33.567453  19467.074671\n",
      "31    Male            Poor  187.018307   84.686112  12.287890  18155.533413\n",
      "40    Male            Poor  122.186286   93.488336  18.714034  20102.553691\n",
      "..     ...             ...         ...         ...        ...           ...\n",
      "473   Male            Poor  150.074925   54.797421   7.751620  19374.369862\n",
      "481   Male            Poor  163.754861   64.959558  18.027605  20486.204334\n",
      "487   Male            Poor  203.194175   63.912532  48.174694  20712.097049\n",
      "490   Male            Poor  224.206979   51.533163  51.259073  18577.545530\n",
      "499   Male            Poor  119.390657   34.001503  24.086701  20501.203056\n",
      "\n",
      "[79 rows x 6 columns]\n",
      "('Male', 'Rich')\n",
      "    Gender Economic Status      Height      Weight        Age        Income\n",
      "0     Male            Rich  176.220185  113.694813  27.334143  18478.005491\n",
      "13    Male            Rich  146.822490   68.032323  35.505519  21476.684098\n",
      "18    Male            Rich  186.806627   79.590802  36.080842  19777.165180\n",
      "34    Male            Rich  186.749712   76.252974  44.595895  19302.363007\n",
      "35    Male            Rich   69.344668   89.726662  27.474519  19800.495819\n",
      "..     ...             ...         ...         ...        ...           ...\n",
      "482   Male            Rich  153.411836   46.427565  32.166906  21235.582032\n",
      "486   Male            Rich  188.615485   60.767186  31.777309  19026.089019\n",
      "488   Male            Rich  157.859463   62.665511  48.489945  21397.672584\n",
      "494   Male            Rich  179.102967   52.092475  19.449831  20102.511949\n",
      "495   Male            Rich  177.798504   41.626966  37.538020  18884.661293\n",
      "\n",
      "[80 rows x 6 columns]\n"
     ]
    }
   ],
   "source": [
    "# hacemos un bucle de este grupo doble\n",
    "for names, groups in double_group:\n",
    "    print(names)\n",
    "    print(groups)"
   ]
  },
  {
   "cell_type": "markdown",
   "metadata": {
    "colab_type": "text",
    "id": "bt-jzYaOAkR8"
   },
   "source": [
    "## Operaciones sobre datos agrupados"
   ]
  },
  {
   "cell_type": "code",
   "execution_count": 16,
   "metadata": {
    "colab": {
     "base_uri": "https://localhost:8080/",
     "height": 266
    },
    "colab_type": "code",
    "id": "IALClhg8AkR8",
    "outputId": "6f13982b-30f8-46c1-84c0-f7d82500c562"
   },
   "outputs": [
    {
     "data": {
      "text/html": [
       "<div>\n",
       "<style scoped>\n",
       "    .dataframe tbody tr th:only-of-type {\n",
       "        vertical-align: middle;\n",
       "    }\n",
       "\n",
       "    .dataframe tbody tr th {\n",
       "        vertical-align: top;\n",
       "    }\n",
       "\n",
       "    .dataframe thead th {\n",
       "        text-align: right;\n",
       "    }\n",
       "</style>\n",
       "<table border=\"1\" class=\"dataframe\">\n",
       "  <thead>\n",
       "    <tr style=\"text-align: right;\">\n",
       "      <th></th>\n",
       "      <th></th>\n",
       "      <th>Height</th>\n",
       "      <th>Weight</th>\n",
       "      <th>Age</th>\n",
       "      <th>Income</th>\n",
       "    </tr>\n",
       "    <tr>\n",
       "      <th>Gender</th>\n",
       "      <th>Economic Status</th>\n",
       "      <th></th>\n",
       "      <th></th>\n",
       "      <th></th>\n",
       "      <th></th>\n",
       "    </tr>\n",
       "  </thead>\n",
       "  <tbody>\n",
       "    <tr>\n",
       "      <th rowspan=\"3\" valign=\"top\">Female</th>\n",
       "      <th>Middle Class</th>\n",
       "      <td>13298.650899</td>\n",
       "      <td>5393.102859</td>\n",
       "      <td>2427.331283</td>\n",
       "      <td>1.570081e+06</td>\n",
       "    </tr>\n",
       "    <tr>\n",
       "      <th>Poor</th>\n",
       "      <td>16292.452215</td>\n",
       "      <td>6705.160302</td>\n",
       "      <td>3095.769439</td>\n",
       "      <td>1.952996e+06</td>\n",
       "    </tr>\n",
       "    <tr>\n",
       "      <th>Rich</th>\n",
       "      <td>12289.930303</td>\n",
       "      <td>4961.382156</td>\n",
       "      <td>2289.247624</td>\n",
       "      <td>1.505001e+06</td>\n",
       "    </tr>\n",
       "    <tr>\n",
       "      <th rowspan=\"3\" valign=\"top\">Male</th>\n",
       "      <th>Middle Class</th>\n",
       "      <td>14277.674456</td>\n",
       "      <td>5535.663998</td>\n",
       "      <td>2718.343205</td>\n",
       "      <td>1.690535e+06</td>\n",
       "    </tr>\n",
       "    <tr>\n",
       "      <th>Poor</th>\n",
       "      <td>12736.562781</td>\n",
       "      <td>5011.666292</td>\n",
       "      <td>2323.387938</td>\n",
       "      <td>1.557293e+06</td>\n",
       "    </tr>\n",
       "    <tr>\n",
       "      <th>Rich</th>\n",
       "      <td>13153.673454</td>\n",
       "      <td>5147.999867</td>\n",
       "      <td>2521.908986</td>\n",
       "      <td>1.575415e+06</td>\n",
       "    </tr>\n",
       "  </tbody>\n",
       "</table>\n",
       "</div>"
      ],
      "text/plain": [
       "                              Height       Weight          Age        Income\n",
       "Gender Economic Status                                                      \n",
       "Female Middle Class     13298.650899  5393.102859  2427.331283  1.570081e+06\n",
       "       Poor             16292.452215  6705.160302  3095.769439  1.952996e+06\n",
       "       Rich             12289.930303  4961.382156  2289.247624  1.505001e+06\n",
       "Male   Middle Class     14277.674456  5535.663998  2718.343205  1.690535e+06\n",
       "       Poor             12736.562781  5011.666292  2323.387938  1.557293e+06\n",
       "       Rich             13153.673454  5147.999867  2521.908986  1.575415e+06"
      ]
     },
     "execution_count": 16,
     "metadata": {},
     "output_type": "execute_result"
    }
   ],
   "source": [
    "double_group.sum() # suma de todos los datos"
   ]
  },
  {
   "cell_type": "code",
   "execution_count": 17,
   "metadata": {
    "colab": {
     "base_uri": "https://localhost:8080/",
     "height": 266
    },
    "colab_type": "code",
    "id": "XIG-ViIKAkR-",
    "outputId": "daa9cbd7-3175-49a8-ff93-92d29ca6f55b"
   },
   "outputs": [
    {
     "data": {
      "text/html": [
       "<div>\n",
       "<style scoped>\n",
       "    .dataframe tbody tr th:only-of-type {\n",
       "        vertical-align: middle;\n",
       "    }\n",
       "\n",
       "    .dataframe tbody tr th {\n",
       "        vertical-align: top;\n",
       "    }\n",
       "\n",
       "    .dataframe thead th {\n",
       "        text-align: right;\n",
       "    }\n",
       "</style>\n",
       "<table border=\"1\" class=\"dataframe\">\n",
       "  <thead>\n",
       "    <tr style=\"text-align: right;\">\n",
       "      <th></th>\n",
       "      <th></th>\n",
       "      <th>Height</th>\n",
       "      <th>Weight</th>\n",
       "      <th>Age</th>\n",
       "      <th>Income</th>\n",
       "    </tr>\n",
       "    <tr>\n",
       "      <th>Gender</th>\n",
       "      <th>Economic Status</th>\n",
       "      <th></th>\n",
       "      <th></th>\n",
       "      <th></th>\n",
       "      <th></th>\n",
       "    </tr>\n",
       "  </thead>\n",
       "  <tbody>\n",
       "    <tr>\n",
       "      <th rowspan=\"3\" valign=\"top\">Female</th>\n",
       "      <th>Middle Class</th>\n",
       "      <td>166.233136</td>\n",
       "      <td>67.413786</td>\n",
       "      <td>30.341641</td>\n",
       "      <td>19626.017526</td>\n",
       "    </tr>\n",
       "    <tr>\n",
       "      <th>Poor</th>\n",
       "      <td>164.570224</td>\n",
       "      <td>67.728892</td>\n",
       "      <td>31.270398</td>\n",
       "      <td>19727.237203</td>\n",
       "    </tr>\n",
       "    <tr>\n",
       "      <th>Rich</th>\n",
       "      <td>159.609484</td>\n",
       "      <td>64.433534</td>\n",
       "      <td>29.730489</td>\n",
       "      <td>19545.468326</td>\n",
       "    </tr>\n",
       "    <tr>\n",
       "      <th rowspan=\"3\" valign=\"top\">Male</th>\n",
       "      <th>Middle Class</th>\n",
       "      <td>167.972641</td>\n",
       "      <td>65.125459</td>\n",
       "      <td>31.980508</td>\n",
       "      <td>19888.646957</td>\n",
       "    </tr>\n",
       "    <tr>\n",
       "      <th>Poor</th>\n",
       "      <td>161.222314</td>\n",
       "      <td>63.438814</td>\n",
       "      <td>29.409974</td>\n",
       "      <td>19712.575414</td>\n",
       "    </tr>\n",
       "    <tr>\n",
       "      <th>Rich</th>\n",
       "      <td>164.420918</td>\n",
       "      <td>64.349998</td>\n",
       "      <td>31.523862</td>\n",
       "      <td>19692.691944</td>\n",
       "    </tr>\n",
       "  </tbody>\n",
       "</table>\n",
       "</div>"
      ],
      "text/plain": [
       "                            Height     Weight        Age        Income\n",
       "Gender Economic Status                                                \n",
       "Female Middle Class     166.233136  67.413786  30.341641  19626.017526\n",
       "       Poor             164.570224  67.728892  31.270398  19727.237203\n",
       "       Rich             159.609484  64.433534  29.730489  19545.468326\n",
       "Male   Middle Class     167.972641  65.125459  31.980508  19888.646957\n",
       "       Poor             161.222314  63.438814  29.409974  19712.575414\n",
       "       Rich             164.420918  64.349998  31.523862  19692.691944"
      ]
     },
     "execution_count": 17,
     "metadata": {},
     "output_type": "execute_result"
    }
   ],
   "source": [
    "double_group.mean() # promedio"
   ]
  },
  {
   "cell_type": "code",
   "execution_count": 18,
   "metadata": {
    "colab": {
     "base_uri": "https://localhost:8080/",
     "height": 153
    },
    "colab_type": "code",
    "id": "Dp6clyJuAkR_",
    "outputId": "c43dbc59-2358-4e5e-a662-7ffad3e3b1a0"
   },
   "outputs": [
    {
     "data": {
      "text/plain": [
       "Gender  Economic Status\n",
       "Female  Middle Class       80\n",
       "        Poor               99\n",
       "        Rich               77\n",
       "Male    Middle Class       85\n",
       "        Poor               79\n",
       "        Rich               80\n",
       "dtype: int64"
      ]
     },
     "execution_count": 18,
     "metadata": {},
     "output_type": "execute_result"
    }
   ],
   "source": [
    "double_group.size() # tamano"
   ]
  },
  {
   "cell_type": "code",
   "execution_count": 19,
   "metadata": {
    "colab": {
     "base_uri": "https://localhost:8080/",
     "height": 368
    },
    "colab_type": "code",
    "id": "MVRQed0CAkSA",
    "outputId": "9d2c6adf-a3c6-41d6-b728-3a9fbcc5902a"
   },
   "outputs": [
    {
     "data": {
      "text/html": [
       "<div>\n",
       "<style scoped>\n",
       "    .dataframe tbody tr th:only-of-type {\n",
       "        vertical-align: middle;\n",
       "    }\n",
       "\n",
       "    .dataframe tbody tr th {\n",
       "        vertical-align: top;\n",
       "    }\n",
       "\n",
       "    .dataframe thead tr th {\n",
       "        text-align: left;\n",
       "    }\n",
       "\n",
       "    .dataframe thead tr:last-of-type th {\n",
       "        text-align: right;\n",
       "    }\n",
       "</style>\n",
       "<table border=\"1\" class=\"dataframe\">\n",
       "  <thead>\n",
       "    <tr>\n",
       "      <th></th>\n",
       "      <th></th>\n",
       "      <th colspan=\"8\" halign=\"left\">Height</th>\n",
       "      <th colspan=\"2\" halign=\"left\">Weight</th>\n",
       "      <th>...</th>\n",
       "      <th colspan=\"2\" halign=\"left\">Age</th>\n",
       "      <th colspan=\"8\" halign=\"left\">Income</th>\n",
       "    </tr>\n",
       "    <tr>\n",
       "      <th></th>\n",
       "      <th></th>\n",
       "      <th>count</th>\n",
       "      <th>mean</th>\n",
       "      <th>std</th>\n",
       "      <th>min</th>\n",
       "      <th>25%</th>\n",
       "      <th>50%</th>\n",
       "      <th>75%</th>\n",
       "      <th>max</th>\n",
       "      <th>count</th>\n",
       "      <th>mean</th>\n",
       "      <th>...</th>\n",
       "      <th>75%</th>\n",
       "      <th>max</th>\n",
       "      <th>count</th>\n",
       "      <th>mean</th>\n",
       "      <th>std</th>\n",
       "      <th>min</th>\n",
       "      <th>25%</th>\n",
       "      <th>50%</th>\n",
       "      <th>75%</th>\n",
       "      <th>max</th>\n",
       "    </tr>\n",
       "    <tr>\n",
       "      <th>Gender</th>\n",
       "      <th>Economic Status</th>\n",
       "      <th></th>\n",
       "      <th></th>\n",
       "      <th></th>\n",
       "      <th></th>\n",
       "      <th></th>\n",
       "      <th></th>\n",
       "      <th></th>\n",
       "      <th></th>\n",
       "      <th></th>\n",
       "      <th></th>\n",
       "      <th></th>\n",
       "      <th></th>\n",
       "      <th></th>\n",
       "      <th></th>\n",
       "      <th></th>\n",
       "      <th></th>\n",
       "      <th></th>\n",
       "      <th></th>\n",
       "      <th></th>\n",
       "      <th></th>\n",
       "      <th></th>\n",
       "    </tr>\n",
       "  </thead>\n",
       "  <tbody>\n",
       "    <tr>\n",
       "      <th rowspan=\"3\" valign=\"top\">Female</th>\n",
       "      <th>Middle Class</th>\n",
       "      <td>80.0</td>\n",
       "      <td>166.233136</td>\n",
       "      <td>31.672853</td>\n",
       "      <td>85.706136</td>\n",
       "      <td>140.917020</td>\n",
       "      <td>169.785916</td>\n",
       "      <td>186.889023</td>\n",
       "      <td>243.861909</td>\n",
       "      <td>80.0</td>\n",
       "      <td>67.413786</td>\n",
       "      <td>...</td>\n",
       "      <td>37.367865</td>\n",
       "      <td>58.597641</td>\n",
       "      <td>80.0</td>\n",
       "      <td>19626.017526</td>\n",
       "      <td>981.333647</td>\n",
       "      <td>18064.484226</td>\n",
       "      <td>18849.308191</td>\n",
       "      <td>19480.654604</td>\n",
       "      <td>20392.659755</td>\n",
       "      <td>21437.216102</td>\n",
       "    </tr>\n",
       "    <tr>\n",
       "      <th>Poor</th>\n",
       "      <td>99.0</td>\n",
       "      <td>164.570224</td>\n",
       "      <td>31.177826</td>\n",
       "      <td>89.782726</td>\n",
       "      <td>139.987954</td>\n",
       "      <td>165.603936</td>\n",
       "      <td>185.506071</td>\n",
       "      <td>238.853130</td>\n",
       "      <td>99.0</td>\n",
       "      <td>67.728892</td>\n",
       "      <td>...</td>\n",
       "      <td>39.229919</td>\n",
       "      <td>61.505043</td>\n",
       "      <td>99.0</td>\n",
       "      <td>19727.237203</td>\n",
       "      <td>973.700904</td>\n",
       "      <td>18027.177656</td>\n",
       "      <td>18963.162798</td>\n",
       "      <td>19809.447184</td>\n",
       "      <td>20446.692711</td>\n",
       "      <td>21469.788207</td>\n",
       "    </tr>\n",
       "    <tr>\n",
       "      <th>Rich</th>\n",
       "      <td>77.0</td>\n",
       "      <td>159.609484</td>\n",
       "      <td>30.809423</td>\n",
       "      <td>80.389588</td>\n",
       "      <td>144.690571</td>\n",
       "      <td>158.193661</td>\n",
       "      <td>180.134030</td>\n",
       "      <td>244.477363</td>\n",
       "      <td>77.0</td>\n",
       "      <td>64.433534</td>\n",
       "      <td>...</td>\n",
       "      <td>38.205880</td>\n",
       "      <td>56.880875</td>\n",
       "      <td>77.0</td>\n",
       "      <td>19545.468326</td>\n",
       "      <td>1004.227885</td>\n",
       "      <td>18000.309128</td>\n",
       "      <td>18755.441272</td>\n",
       "      <td>19485.558570</td>\n",
       "      <td>20304.396035</td>\n",
       "      <td>21451.002698</td>\n",
       "    </tr>\n",
       "    <tr>\n",
       "      <th rowspan=\"3\" valign=\"top\">Male</th>\n",
       "      <th>Middle Class</th>\n",
       "      <td>85.0</td>\n",
       "      <td>167.972641</td>\n",
       "      <td>25.113479</td>\n",
       "      <td>115.709053</td>\n",
       "      <td>147.383692</td>\n",
       "      <td>168.543581</td>\n",
       "      <td>180.461443</td>\n",
       "      <td>228.221997</td>\n",
       "      <td>85.0</td>\n",
       "      <td>65.125459</td>\n",
       "      <td>...</td>\n",
       "      <td>39.846583</td>\n",
       "      <td>60.853240</td>\n",
       "      <td>85.0</td>\n",
       "      <td>19888.646957</td>\n",
       "      <td>972.507104</td>\n",
       "      <td>18034.531011</td>\n",
       "      <td>19050.119240</td>\n",
       "      <td>20144.046740</td>\n",
       "      <td>20669.652299</td>\n",
       "      <td>21484.970171</td>\n",
       "    </tr>\n",
       "    <tr>\n",
       "      <th>Poor</th>\n",
       "      <td>79.0</td>\n",
       "      <td>161.222314</td>\n",
       "      <td>33.081483</td>\n",
       "      <td>79.821908</td>\n",
       "      <td>137.726139</td>\n",
       "      <td>160.838492</td>\n",
       "      <td>183.626578</td>\n",
       "      <td>225.729021</td>\n",
       "      <td>79.0</td>\n",
       "      <td>63.438814</td>\n",
       "      <td>...</td>\n",
       "      <td>38.903327</td>\n",
       "      <td>58.150251</td>\n",
       "      <td>79.0</td>\n",
       "      <td>19712.575414</td>\n",
       "      <td>1075.180128</td>\n",
       "      <td>18003.470159</td>\n",
       "      <td>18682.654516</td>\n",
       "      <td>19884.284002</td>\n",
       "      <td>20612.935384</td>\n",
       "      <td>21347.139089</td>\n",
       "    </tr>\n",
       "    <tr>\n",
       "      <th>Rich</th>\n",
       "      <td>80.0</td>\n",
       "      <td>164.420918</td>\n",
       "      <td>30.462603</td>\n",
       "      <td>69.344668</td>\n",
       "      <td>144.517225</td>\n",
       "      <td>163.615318</td>\n",
       "      <td>178.659791</td>\n",
       "      <td>255.859377</td>\n",
       "      <td>80.0</td>\n",
       "      <td>64.349998</td>\n",
       "      <td>...</td>\n",
       "      <td>37.564433</td>\n",
       "      <td>56.207348</td>\n",
       "      <td>80.0</td>\n",
       "      <td>19692.691944</td>\n",
       "      <td>877.118610</td>\n",
       "      <td>18177.963950</td>\n",
       "      <td>19023.559166</td>\n",
       "      <td>19610.315527</td>\n",
       "      <td>20181.718321</td>\n",
       "      <td>21476.684098</td>\n",
       "    </tr>\n",
       "  </tbody>\n",
       "</table>\n",
       "<p>6 rows × 32 columns</p>\n",
       "</div>"
      ],
      "text/plain": [
       "                       Height                                                 \\\n",
       "                        count        mean        std         min         25%   \n",
       "Gender Economic Status                                                         \n",
       "Female Middle Class      80.0  166.233136  31.672853   85.706136  140.917020   \n",
       "       Poor              99.0  164.570224  31.177826   89.782726  139.987954   \n",
       "       Rich              77.0  159.609484  30.809423   80.389588  144.690571   \n",
       "Male   Middle Class      85.0  167.972641  25.113479  115.709053  147.383692   \n",
       "       Poor              79.0  161.222314  33.081483   79.821908  137.726139   \n",
       "       Rich              80.0  164.420918  30.462603   69.344668  144.517225   \n",
       "\n",
       "                                                           Weight             \\\n",
       "                               50%         75%         max  count       mean   \n",
       "Gender Economic Status                                                         \n",
       "Female Middle Class     169.785916  186.889023  243.861909   80.0  67.413786   \n",
       "       Poor             165.603936  185.506071  238.853130   99.0  67.728892   \n",
       "       Rich             158.193661  180.134030  244.477363   77.0  64.433534   \n",
       "Male   Middle Class     168.543581  180.461443  228.221997   85.0  65.125459   \n",
       "       Poor             160.838492  183.626578  225.729021   79.0  63.438814   \n",
       "       Rich             163.615318  178.659791  255.859377   80.0  64.349998   \n",
       "\n",
       "                        ...        Age            Income                \\\n",
       "                        ...        75%        max  count          mean   \n",
       "Gender Economic Status  ...                                              \n",
       "Female Middle Class     ...  37.367865  58.597641   80.0  19626.017526   \n",
       "       Poor             ...  39.229919  61.505043   99.0  19727.237203   \n",
       "       Rich             ...  38.205880  56.880875   77.0  19545.468326   \n",
       "Male   Middle Class     ...  39.846583  60.853240   85.0  19888.646957   \n",
       "       Poor             ...  38.903327  58.150251   79.0  19712.575414   \n",
       "       Rich             ...  37.564433  56.207348   80.0  19692.691944   \n",
       "\n",
       "                                                                               \\\n",
       "                                std           min           25%           50%   \n",
       "Gender Economic Status                                                          \n",
       "Female Middle Class      981.333647  18064.484226  18849.308191  19480.654604   \n",
       "       Poor              973.700904  18027.177656  18963.162798  19809.447184   \n",
       "       Rich             1004.227885  18000.309128  18755.441272  19485.558570   \n",
       "Male   Middle Class      972.507104  18034.531011  19050.119240  20144.046740   \n",
       "       Poor             1075.180128  18003.470159  18682.654516  19884.284002   \n",
       "       Rich              877.118610  18177.963950  19023.559166  19610.315527   \n",
       "\n",
       "                                                    \n",
       "                                 75%           max  \n",
       "Gender Economic Status                              \n",
       "Female Middle Class     20392.659755  21437.216102  \n",
       "       Poor             20446.692711  21469.788207  \n",
       "       Rich             20304.396035  21451.002698  \n",
       "Male   Middle Class     20669.652299  21484.970171  \n",
       "       Poor             20612.935384  21347.139089  \n",
       "       Rich             20181.718321  21476.684098  \n",
       "\n",
       "[6 rows x 32 columns]"
      ]
     },
     "execution_count": 19,
     "metadata": {},
     "output_type": "execute_result"
    }
   ],
   "source": [
    "double_group.describe() "
   ]
  },
  {
   "cell_type": "code",
   "execution_count": 20,
   "metadata": {
    "colab": {},
    "colab_type": "code",
    "id": "m0tze5dCAkSB"
   },
   "outputs": [],
   "source": [
    "grouped_income = double_group[\"Income\"] # vemos por variables"
   ]
  },
  {
   "cell_type": "code",
   "execution_count": 21,
   "metadata": {
    "colab": {
     "base_uri": "https://localhost:8080/",
     "height": 266
    },
    "colab_type": "code",
    "id": "GnO4smZWAkSC",
    "outputId": "d6a8c7d5-a0fd-4dbd-c1a3-252531f0dde2"
   },
   "outputs": [
    {
     "data": {
      "text/html": [
       "<div>\n",
       "<style scoped>\n",
       "    .dataframe tbody tr th:only-of-type {\n",
       "        vertical-align: middle;\n",
       "    }\n",
       "\n",
       "    .dataframe tbody tr th {\n",
       "        vertical-align: top;\n",
       "    }\n",
       "\n",
       "    .dataframe thead th {\n",
       "        text-align: right;\n",
       "    }\n",
       "</style>\n",
       "<table border=\"1\" class=\"dataframe\">\n",
       "  <thead>\n",
       "    <tr style=\"text-align: right;\">\n",
       "      <th></th>\n",
       "      <th></th>\n",
       "      <th>count</th>\n",
       "      <th>mean</th>\n",
       "      <th>std</th>\n",
       "      <th>min</th>\n",
       "      <th>25%</th>\n",
       "      <th>50%</th>\n",
       "      <th>75%</th>\n",
       "      <th>max</th>\n",
       "    </tr>\n",
       "    <tr>\n",
       "      <th>Gender</th>\n",
       "      <th>Economic Status</th>\n",
       "      <th></th>\n",
       "      <th></th>\n",
       "      <th></th>\n",
       "      <th></th>\n",
       "      <th></th>\n",
       "      <th></th>\n",
       "      <th></th>\n",
       "      <th></th>\n",
       "    </tr>\n",
       "  </thead>\n",
       "  <tbody>\n",
       "    <tr>\n",
       "      <th rowspan=\"3\" valign=\"top\">Female</th>\n",
       "      <th>Middle Class</th>\n",
       "      <td>80.0</td>\n",
       "      <td>19626.017526</td>\n",
       "      <td>981.333647</td>\n",
       "      <td>18064.484226</td>\n",
       "      <td>18849.308191</td>\n",
       "      <td>19480.654604</td>\n",
       "      <td>20392.659755</td>\n",
       "      <td>21437.216102</td>\n",
       "    </tr>\n",
       "    <tr>\n",
       "      <th>Poor</th>\n",
       "      <td>99.0</td>\n",
       "      <td>19727.237203</td>\n",
       "      <td>973.700904</td>\n",
       "      <td>18027.177656</td>\n",
       "      <td>18963.162798</td>\n",
       "      <td>19809.447184</td>\n",
       "      <td>20446.692711</td>\n",
       "      <td>21469.788207</td>\n",
       "    </tr>\n",
       "    <tr>\n",
       "      <th>Rich</th>\n",
       "      <td>77.0</td>\n",
       "      <td>19545.468326</td>\n",
       "      <td>1004.227885</td>\n",
       "      <td>18000.309128</td>\n",
       "      <td>18755.441272</td>\n",
       "      <td>19485.558570</td>\n",
       "      <td>20304.396035</td>\n",
       "      <td>21451.002698</td>\n",
       "    </tr>\n",
       "    <tr>\n",
       "      <th rowspan=\"3\" valign=\"top\">Male</th>\n",
       "      <th>Middle Class</th>\n",
       "      <td>85.0</td>\n",
       "      <td>19888.646957</td>\n",
       "      <td>972.507104</td>\n",
       "      <td>18034.531011</td>\n",
       "      <td>19050.119240</td>\n",
       "      <td>20144.046740</td>\n",
       "      <td>20669.652299</td>\n",
       "      <td>21484.970171</td>\n",
       "    </tr>\n",
       "    <tr>\n",
       "      <th>Poor</th>\n",
       "      <td>79.0</td>\n",
       "      <td>19712.575414</td>\n",
       "      <td>1075.180128</td>\n",
       "      <td>18003.470159</td>\n",
       "      <td>18682.654516</td>\n",
       "      <td>19884.284002</td>\n",
       "      <td>20612.935384</td>\n",
       "      <td>21347.139089</td>\n",
       "    </tr>\n",
       "    <tr>\n",
       "      <th>Rich</th>\n",
       "      <td>80.0</td>\n",
       "      <td>19692.691944</td>\n",
       "      <td>877.118610</td>\n",
       "      <td>18177.963950</td>\n",
       "      <td>19023.559166</td>\n",
       "      <td>19610.315527</td>\n",
       "      <td>20181.718321</td>\n",
       "      <td>21476.684098</td>\n",
       "    </tr>\n",
       "  </tbody>\n",
       "</table>\n",
       "</div>"
      ],
      "text/plain": [
       "                        count          mean          std           min  \\\n",
       "Gender Economic Status                                                   \n",
       "Female Middle Class      80.0  19626.017526   981.333647  18064.484226   \n",
       "       Poor              99.0  19727.237203   973.700904  18027.177656   \n",
       "       Rich              77.0  19545.468326  1004.227885  18000.309128   \n",
       "Male   Middle Class      85.0  19888.646957   972.507104  18034.531011   \n",
       "       Poor              79.0  19712.575414  1075.180128  18003.470159   \n",
       "       Rich              80.0  19692.691944   877.118610  18177.963950   \n",
       "\n",
       "                                 25%           50%           75%           max  \n",
       "Gender Economic Status                                                          \n",
       "Female Middle Class     18849.308191  19480.654604  20392.659755  21437.216102  \n",
       "       Poor             18963.162798  19809.447184  20446.692711  21469.788207  \n",
       "       Rich             18755.441272  19485.558570  20304.396035  21451.002698  \n",
       "Male   Middle Class     19050.119240  20144.046740  20669.652299  21484.970171  \n",
       "       Poor             18682.654516  19884.284002  20612.935384  21347.139089  \n",
       "       Rich             19023.559166  19610.315527  20181.718321  21476.684098  "
      ]
     },
     "execution_count": 21,
     "metadata": {},
     "output_type": "execute_result"
    }
   ],
   "source": [
    "grouped_income.describe()"
   ]
  },
  {
   "cell_type": "code",
   "execution_count": 22,
   "metadata": {
    "colab": {
     "base_uri": "https://localhost:8080/",
     "height": 266
    },
    "colab_type": "code",
    "id": "kc8V5PfaAkSD",
    "outputId": "82aef21c-a5f8-4c6b-f7a8-fb80786af5bd"
   },
   "outputs": [
    {
     "data": {
      "text/html": [
       "<div>\n",
       "<style scoped>\n",
       "    .dataframe tbody tr th:only-of-type {\n",
       "        vertical-align: middle;\n",
       "    }\n",
       "\n",
       "    .dataframe tbody tr th {\n",
       "        vertical-align: top;\n",
       "    }\n",
       "\n",
       "    .dataframe thead th {\n",
       "        text-align: right;\n",
       "    }\n",
       "</style>\n",
       "<table border=\"1\" class=\"dataframe\">\n",
       "  <thead>\n",
       "    <tr style=\"text-align: right;\">\n",
       "      <th></th>\n",
       "      <th></th>\n",
       "      <th>Income</th>\n",
       "      <th>Age</th>\n",
       "      <th>Height</th>\n",
       "    </tr>\n",
       "    <tr>\n",
       "      <th>Gender</th>\n",
       "      <th>Economic Status</th>\n",
       "      <th></th>\n",
       "      <th></th>\n",
       "      <th></th>\n",
       "    </tr>\n",
       "  </thead>\n",
       "  <tbody>\n",
       "    <tr>\n",
       "      <th rowspan=\"3\" valign=\"top\">Female</th>\n",
       "      <th>Middle Class</th>\n",
       "      <td>1.570081e+06</td>\n",
       "      <td>30.341641</td>\n",
       "      <td>31.672853</td>\n",
       "    </tr>\n",
       "    <tr>\n",
       "      <th>Poor</th>\n",
       "      <td>1.952996e+06</td>\n",
       "      <td>31.270398</td>\n",
       "      <td>31.177826</td>\n",
       "    </tr>\n",
       "    <tr>\n",
       "      <th>Rich</th>\n",
       "      <td>1.505001e+06</td>\n",
       "      <td>29.730489</td>\n",
       "      <td>30.809423</td>\n",
       "    </tr>\n",
       "    <tr>\n",
       "      <th rowspan=\"3\" valign=\"top\">Male</th>\n",
       "      <th>Middle Class</th>\n",
       "      <td>1.690535e+06</td>\n",
       "      <td>31.980508</td>\n",
       "      <td>25.113479</td>\n",
       "    </tr>\n",
       "    <tr>\n",
       "      <th>Poor</th>\n",
       "      <td>1.557293e+06</td>\n",
       "      <td>29.409974</td>\n",
       "      <td>33.081483</td>\n",
       "    </tr>\n",
       "    <tr>\n",
       "      <th>Rich</th>\n",
       "      <td>1.575415e+06</td>\n",
       "      <td>31.523862</td>\n",
       "      <td>30.462603</td>\n",
       "    </tr>\n",
       "  </tbody>\n",
       "</table>\n",
       "</div>"
      ],
      "text/plain": [
       "                              Income        Age     Height\n",
       "Gender Economic Status                                    \n",
       "Female Middle Class     1.570081e+06  30.341641  31.672853\n",
       "       Poor             1.952996e+06  31.270398  31.177826\n",
       "       Rich             1.505001e+06  29.730489  30.809423\n",
       "Male   Middle Class     1.690535e+06  31.980508  25.113479\n",
       "       Poor             1.557293e+06  29.409974  33.081483\n",
       "       Rich             1.575415e+06  31.523862  30.462603"
      ]
     },
     "execution_count": 22,
     "metadata": {},
     "output_type": "execute_result"
    }
   ],
   "source": [
    "# es una modificacion del groupby y calculamos la suma de Income, media de Anos, desviacion estandar de Altura\n",
    "double_group.aggregate(\n",
    "    {\n",
    "        \"Income\": np.sum,\n",
    "        \"Age\" : np.mean,\n",
    "        \"Height\" : np.std\n",
    "    }\n",
    ")"
   ]
  },
  {
   "cell_type": "code",
   "execution_count": 23,
   "metadata": {
    "colab": {
     "base_uri": "https://localhost:8080/",
     "height": 266
    },
    "colab_type": "code",
    "id": "hjThnV4yAkSE",
    "outputId": "c70ed120-8fc1-4f01-ca77-fe33e8518a11"
   },
   "outputs": [
    {
     "data": {
      "text/html": [
       "<div>\n",
       "<style scoped>\n",
       "    .dataframe tbody tr th:only-of-type {\n",
       "        vertical-align: middle;\n",
       "    }\n",
       "\n",
       "    .dataframe tbody tr th {\n",
       "        vertical-align: top;\n",
       "    }\n",
       "\n",
       "    .dataframe thead th {\n",
       "        text-align: right;\n",
       "    }\n",
       "</style>\n",
       "<table border=\"1\" class=\"dataframe\">\n",
       "  <thead>\n",
       "    <tr style=\"text-align: right;\">\n",
       "      <th></th>\n",
       "      <th></th>\n",
       "      <th>Age</th>\n",
       "      <th>Height</th>\n",
       "    </tr>\n",
       "    <tr>\n",
       "      <th>Gender</th>\n",
       "      <th>Economic Status</th>\n",
       "      <th></th>\n",
       "      <th></th>\n",
       "    </tr>\n",
       "  </thead>\n",
       "  <tbody>\n",
       "    <tr>\n",
       "      <th rowspan=\"3\" valign=\"top\">Female</th>\n",
       "      <th>Middle Class</th>\n",
       "      <td>30.341641</td>\n",
       "      <td>5.281556</td>\n",
       "    </tr>\n",
       "    <tr>\n",
       "      <th>Poor</th>\n",
       "      <td>31.270398</td>\n",
       "      <td>5.305301</td>\n",
       "    </tr>\n",
       "    <tr>\n",
       "      <th>Rich</th>\n",
       "      <td>29.730489</td>\n",
       "      <td>5.214512</td>\n",
       "    </tr>\n",
       "    <tr>\n",
       "      <th rowspan=\"3\" valign=\"top\">Male</th>\n",
       "      <th>Middle Class</th>\n",
       "      <td>31.980508</td>\n",
       "      <td>6.728240</td>\n",
       "    </tr>\n",
       "    <tr>\n",
       "      <th>Poor</th>\n",
       "      <td>29.409974</td>\n",
       "      <td>4.904632</td>\n",
       "    </tr>\n",
       "    <tr>\n",
       "      <th>Rich</th>\n",
       "      <td>31.523862</td>\n",
       "      <td>5.431522</td>\n",
       "    </tr>\n",
       "  </tbody>\n",
       "</table>\n",
       "</div>"
      ],
      "text/plain": [
       "                              Age    Height\n",
       "Gender Economic Status                     \n",
       "Female Middle Class     30.341641  5.281556\n",
       "       Poor             31.270398  5.305301\n",
       "       Rich             29.730489  5.214512\n",
       "Male   Middle Class     31.980508  6.728240\n",
       "       Poor             29.409974  4.904632\n",
       "       Rich             31.523862  5.431522"
      ]
     },
     "execution_count": 23,
     "metadata": {},
     "output_type": "execute_result"
    }
   ],
   "source": [
    "# agregamos \n",
    "double_group.aggregate(\n",
    "    {\n",
    "        \"Age\" : np.mean, # la media de edad \n",
    "        \"Height\" : lambda h:(np.mean(h))/np.std(h) # , a la altura promedio entre desviacion estandar\n",
    "    }\n",
    ")"
   ]
  },
  {
   "cell_type": "code",
   "execution_count": 24,
   "metadata": {
    "colab": {
     "base_uri": "https://localhost:8080/",
     "height": 297
    },
    "colab_type": "code",
    "id": "SGx9EOlFAkSF",
    "outputId": "46b278df-a199-4cd5-bb95-aff120b6ac43"
   },
   "outputs": [
    {
     "data": {
      "text/html": [
       "<div>\n",
       "<style scoped>\n",
       "    .dataframe tbody tr th:only-of-type {\n",
       "        vertical-align: middle;\n",
       "    }\n",
       "\n",
       "    .dataframe tbody tr th {\n",
       "        vertical-align: top;\n",
       "    }\n",
       "\n",
       "    .dataframe thead tr th {\n",
       "        text-align: left;\n",
       "    }\n",
       "\n",
       "    .dataframe thead tr:last-of-type th {\n",
       "        text-align: right;\n",
       "    }\n",
       "</style>\n",
       "<table border=\"1\" class=\"dataframe\">\n",
       "  <thead>\n",
       "    <tr>\n",
       "      <th></th>\n",
       "      <th></th>\n",
       "      <th colspan=\"3\" halign=\"left\">Height</th>\n",
       "      <th colspan=\"3\" halign=\"left\">Weight</th>\n",
       "      <th colspan=\"3\" halign=\"left\">Age</th>\n",
       "      <th colspan=\"3\" halign=\"left\">Income</th>\n",
       "    </tr>\n",
       "    <tr>\n",
       "      <th></th>\n",
       "      <th></th>\n",
       "      <th>sum</th>\n",
       "      <th>mean</th>\n",
       "      <th>std</th>\n",
       "      <th>sum</th>\n",
       "      <th>mean</th>\n",
       "      <th>std</th>\n",
       "      <th>sum</th>\n",
       "      <th>mean</th>\n",
       "      <th>std</th>\n",
       "      <th>sum</th>\n",
       "      <th>mean</th>\n",
       "      <th>std</th>\n",
       "    </tr>\n",
       "    <tr>\n",
       "      <th>Gender</th>\n",
       "      <th>Economic Status</th>\n",
       "      <th></th>\n",
       "      <th></th>\n",
       "      <th></th>\n",
       "      <th></th>\n",
       "      <th></th>\n",
       "      <th></th>\n",
       "      <th></th>\n",
       "      <th></th>\n",
       "      <th></th>\n",
       "      <th></th>\n",
       "      <th></th>\n",
       "      <th></th>\n",
       "    </tr>\n",
       "  </thead>\n",
       "  <tbody>\n",
       "    <tr>\n",
       "      <th rowspan=\"3\" valign=\"top\">Female</th>\n",
       "      <th>Middle Class</th>\n",
       "      <td>13298.650899</td>\n",
       "      <td>166.233136</td>\n",
       "      <td>31.672853</td>\n",
       "      <td>5393.102859</td>\n",
       "      <td>67.413786</td>\n",
       "      <td>25.792112</td>\n",
       "      <td>2427.331283</td>\n",
       "      <td>30.341641</td>\n",
       "      <td>10.824803</td>\n",
       "      <td>1.570081e+06</td>\n",
       "      <td>19626.017526</td>\n",
       "      <td>981.333647</td>\n",
       "    </tr>\n",
       "    <tr>\n",
       "      <th>Poor</th>\n",
       "      <td>16292.452215</td>\n",
       "      <td>164.570224</td>\n",
       "      <td>31.177826</td>\n",
       "      <td>6705.160302</td>\n",
       "      <td>67.728892</td>\n",
       "      <td>24.776797</td>\n",
       "      <td>3095.769439</td>\n",
       "      <td>31.270398</td>\n",
       "      <td>11.527558</td>\n",
       "      <td>1.952996e+06</td>\n",
       "      <td>19727.237203</td>\n",
       "      <td>973.700904</td>\n",
       "    </tr>\n",
       "    <tr>\n",
       "      <th>Rich</th>\n",
       "      <td>12289.930303</td>\n",
       "      <td>159.609484</td>\n",
       "      <td>30.809423</td>\n",
       "      <td>4961.382156</td>\n",
       "      <td>64.433534</td>\n",
       "      <td>25.523827</td>\n",
       "      <td>2289.247624</td>\n",
       "      <td>29.730489</td>\n",
       "      <td>11.500959</td>\n",
       "      <td>1.505001e+06</td>\n",
       "      <td>19545.468326</td>\n",
       "      <td>1004.227885</td>\n",
       "    </tr>\n",
       "    <tr>\n",
       "      <th rowspan=\"3\" valign=\"top\">Male</th>\n",
       "      <th>Middle Class</th>\n",
       "      <td>14277.674456</td>\n",
       "      <td>167.972641</td>\n",
       "      <td>25.113479</td>\n",
       "      <td>5535.663998</td>\n",
       "      <td>65.125459</td>\n",
       "      <td>25.782616</td>\n",
       "      <td>2718.343205</td>\n",
       "      <td>31.980508</td>\n",
       "      <td>10.588326</td>\n",
       "      <td>1.690535e+06</td>\n",
       "      <td>19888.646957</td>\n",
       "      <td>972.507104</td>\n",
       "    </tr>\n",
       "    <tr>\n",
       "      <th>Poor</th>\n",
       "      <td>12736.562781</td>\n",
       "      <td>161.222314</td>\n",
       "      <td>33.081483</td>\n",
       "      <td>5011.666292</td>\n",
       "      <td>63.438814</td>\n",
       "      <td>25.120739</td>\n",
       "      <td>2323.387938</td>\n",
       "      <td>29.409974</td>\n",
       "      <td>13.178309</td>\n",
       "      <td>1.557293e+06</td>\n",
       "      <td>19712.575414</td>\n",
       "      <td>1075.180128</td>\n",
       "    </tr>\n",
       "    <tr>\n",
       "      <th>Rich</th>\n",
       "      <td>13153.673454</td>\n",
       "      <td>164.420918</td>\n",
       "      <td>30.462603</td>\n",
       "      <td>5147.999867</td>\n",
       "      <td>64.349998</td>\n",
       "      <td>24.394400</td>\n",
       "      <td>2521.908986</td>\n",
       "      <td>31.523862</td>\n",
       "      <td>9.867618</td>\n",
       "      <td>1.575415e+06</td>\n",
       "      <td>19692.691944</td>\n",
       "      <td>877.118610</td>\n",
       "    </tr>\n",
       "  </tbody>\n",
       "</table>\n",
       "</div>"
      ],
      "text/plain": [
       "                              Height                              Weight  \\\n",
       "                                 sum        mean        std          sum   \n",
       "Gender Economic Status                                                     \n",
       "Female Middle Class     13298.650899  166.233136  31.672853  5393.102859   \n",
       "       Poor             16292.452215  164.570224  31.177826  6705.160302   \n",
       "       Rich             12289.930303  159.609484  30.809423  4961.382156   \n",
       "Male   Middle Class     14277.674456  167.972641  25.113479  5535.663998   \n",
       "       Poor             12736.562781  161.222314  33.081483  5011.666292   \n",
       "       Rich             13153.673454  164.420918  30.462603  5147.999867   \n",
       "\n",
       "                                                      Age             \\\n",
       "                             mean        std          sum       mean   \n",
       "Gender Economic Status                                                 \n",
       "Female Middle Class     67.413786  25.792112  2427.331283  30.341641   \n",
       "       Poor             67.728892  24.776797  3095.769439  31.270398   \n",
       "       Rich             64.433534  25.523827  2289.247624  29.730489   \n",
       "Male   Middle Class     65.125459  25.782616  2718.343205  31.980508   \n",
       "       Poor             63.438814  25.120739  2323.387938  29.409974   \n",
       "       Rich             64.349998  24.394400  2521.908986  31.523862   \n",
       "\n",
       "                                         Income                             \n",
       "                              std           sum          mean          std  \n",
       "Gender Economic Status                                                      \n",
       "Female Middle Class     10.824803  1.570081e+06  19626.017526   981.333647  \n",
       "       Poor             11.527558  1.952996e+06  19727.237203   973.700904  \n",
       "       Rich             11.500959  1.505001e+06  19545.468326  1004.227885  \n",
       "Male   Middle Class     10.588326  1.690535e+06  19888.646957   972.507104  \n",
       "       Poor             13.178309  1.557293e+06  19712.575414  1075.180128  \n",
       "       Rich              9.867618  1.575415e+06  19692.691944   877.118610  "
      ]
     },
     "execution_count": 24,
     "metadata": {},
     "output_type": "execute_result"
    }
   ],
   "source": [
    "# lo mismo de arriba\n",
    "double_group.aggregate([np.sum, np.mean, np.std]) # a todas las columnas"
   ]
  },
  {
   "cell_type": "code",
   "execution_count": 25,
   "metadata": {
    "colab": {
     "base_uri": "https://localhost:8080/",
     "height": 297
    },
    "colab_type": "code",
    "id": "UkktjSkgAkSG",
    "outputId": "649b4150-ed5f-434c-aba1-fd463463fa25"
   },
   "outputs": [
    {
     "data": {
      "text/html": [
       "<div>\n",
       "<style scoped>\n",
       "    .dataframe tbody tr th:only-of-type {\n",
       "        vertical-align: middle;\n",
       "    }\n",
       "\n",
       "    .dataframe tbody tr th {\n",
       "        vertical-align: top;\n",
       "    }\n",
       "\n",
       "    .dataframe thead tr th {\n",
       "        text-align: left;\n",
       "    }\n",
       "\n",
       "    .dataframe thead tr:last-of-type th {\n",
       "        text-align: right;\n",
       "    }\n",
       "</style>\n",
       "<table border=\"1\" class=\"dataframe\">\n",
       "  <thead>\n",
       "    <tr>\n",
       "      <th></th>\n",
       "      <th></th>\n",
       "      <th>Height</th>\n",
       "      <th>Weight</th>\n",
       "      <th>Age</th>\n",
       "      <th>Income</th>\n",
       "    </tr>\n",
       "    <tr>\n",
       "      <th></th>\n",
       "      <th></th>\n",
       "      <th>&lt;lambda&gt;</th>\n",
       "      <th>&lt;lambda&gt;</th>\n",
       "      <th>&lt;lambda&gt;</th>\n",
       "      <th>&lt;lambda&gt;</th>\n",
       "    </tr>\n",
       "    <tr>\n",
       "      <th>Gender</th>\n",
       "      <th>Economic Status</th>\n",
       "      <th></th>\n",
       "      <th></th>\n",
       "      <th></th>\n",
       "      <th></th>\n",
       "    </tr>\n",
       "  </thead>\n",
       "  <tbody>\n",
       "    <tr>\n",
       "      <th rowspan=\"3\" valign=\"top\">Female</th>\n",
       "      <th>Middle Class</th>\n",
       "      <td>5.281556</td>\n",
       "      <td>2.630227</td>\n",
       "      <td>2.820659</td>\n",
       "      <td>20.125512</td>\n",
       "    </tr>\n",
       "    <tr>\n",
       "      <th>Poor</th>\n",
       "      <td>5.305301</td>\n",
       "      <td>2.747473</td>\n",
       "      <td>2.726470</td>\n",
       "      <td>20.363164</td>\n",
       "    </tr>\n",
       "    <tr>\n",
       "      <th>Rich</th>\n",
       "      <td>5.214512</td>\n",
       "      <td>2.541000</td>\n",
       "      <td>2.601996</td>\n",
       "      <td>19.590809</td>\n",
       "    </tr>\n",
       "    <tr>\n",
       "      <th rowspan=\"3\" valign=\"top\">Male</th>\n",
       "      <th>Middle Class</th>\n",
       "      <td>6.728240</td>\n",
       "      <td>2.540935</td>\n",
       "      <td>3.038280</td>\n",
       "      <td>20.572273</td>\n",
       "    </tr>\n",
       "    <tr>\n",
       "      <th>Poor</th>\n",
       "      <td>4.904632</td>\n",
       "      <td>2.541493</td>\n",
       "      <td>2.245956</td>\n",
       "      <td>18.451360</td>\n",
       "    </tr>\n",
       "    <tr>\n",
       "      <th>Rich</th>\n",
       "      <td>5.431522</td>\n",
       "      <td>2.654544</td>\n",
       "      <td>3.214834</td>\n",
       "      <td>22.593224</td>\n",
       "    </tr>\n",
       "  </tbody>\n",
       "</table>\n",
       "</div>"
      ],
      "text/plain": [
       "                          Height    Weight       Age     Income\n",
       "                        <lambda>  <lambda>  <lambda>   <lambda>\n",
       "Gender Economic Status                                         \n",
       "Female Middle Class     5.281556  2.630227  2.820659  20.125512\n",
       "       Poor             5.305301  2.747473  2.726470  20.363164\n",
       "       Rich             5.214512  2.541000  2.601996  19.590809\n",
       "Male   Middle Class     6.728240  2.540935  3.038280  20.572273\n",
       "       Poor             4.904632  2.541493  2.245956  18.451360\n",
       "       Rich             5.431522  2.654544  3.214834  22.593224"
      ]
     },
     "execution_count": 25,
     "metadata": {},
     "output_type": "execute_result"
    }
   ],
   "source": [
    "# agregamos con una lambda lo mismo de arriba\n",
    "double_group.aggregate([lambda x: np.mean(x) / np.std(x)])"
   ]
  },
  {
   "cell_type": "markdown",
   "metadata": {
    "colab_type": "text",
    "id": "YqDrlXlFAkSH"
   },
   "source": [
    "## Filtrado de datos"
   ]
  },
  {
   "cell_type": "code",
   "execution_count": 26,
   "metadata": {
    "colab": {
     "base_uri": "https://localhost:8080/",
     "height": 221
    },
    "colab_type": "code",
    "id": "dD7rfKxSAkSH",
    "outputId": "324de0e9-e7f3-4d0a-f627-4502bf988198"
   },
   "outputs": [
    {
     "data": {
      "text/plain": [
       "0      27.334143\n",
       "3      36.805751\n",
       "4      32.107050\n",
       "5      25.657347\n",
       "6      34.950477\n",
       "         ...    \n",
       "492    20.886729\n",
       "493    37.003016\n",
       "494    19.449831\n",
       "495    37.538020\n",
       "498    25.705735\n",
       "Name: Age, Length: 344, dtype: float64"
      ]
     },
     "execution_count": 26,
     "metadata": {},
     "output_type": "execute_result"
    }
   ],
   "source": [
    "# queremos quedarnos con las alturas mayores a 2400 con lambda\n",
    "double_group[\"Age\"].filter(lambda x: x.sum()>2400) # lambda x donde x suma sea mayor a 2400"
   ]
  },
  {
   "cell_type": "markdown",
   "metadata": {
    "colab_type": "text",
    "id": "K8WuegM0AkSI"
   },
   "source": [
    "## Transformación de variables"
   ]
  },
  {
   "cell_type": "code",
   "execution_count": 27,
   "metadata": {
    "colab": {},
    "colab_type": "code",
    "id": "_3lvmdbVAkSI"
   },
   "outputs": [],
   "source": [
    "# tipificacion que es \"lambda\" \n",
    "zscore = lambda x : (x - x.mean())/x.std() # lambda de x donde x menos su media entre su valor estandar"
   ]
  },
  {
   "cell_type": "code",
   "execution_count": 28,
   "metadata": {
    "colab": {},
    "colab_type": "code",
    "id": "fLCs7OEOAkSJ"
   },
   "outputs": [],
   "source": [
    "# transformamos zscore \n",
    "z_group = double_group.transform(zscore)"
   ]
  },
  {
   "cell_type": "code",
   "execution_count": 29,
   "metadata": {
    "colab": {},
    "colab_type": "code",
    "id": "1_3gMroqAkSK"
   },
   "outputs": [],
   "source": [
    "import matplotlib.pyplot as plt"
   ]
  },
  {
   "cell_type": "code",
   "execution_count": 30,
   "metadata": {
    "colab": {
     "base_uri": "https://localhost:8080/",
     "height": 350
    },
    "colab_type": "code",
    "id": "CRgESBjmAkSL",
    "outputId": "3f2055ac-0d7e-4787-ab2a-aa6045c585db"
   },
   "outputs": [
    {
     "data": {
      "text/plain": [
       "(array([  8.,  17.,  30.,  89., 108.,  94.,  84.,  42.,  19.,   9.]),\n",
       " array([-2.77060584, -2.22086069, -1.67111554, -1.12137039, -0.57162524,\n",
       "        -0.0218801 ,  0.52786505,  1.0776102 ,  1.62735535,  2.1771005 ,\n",
       "         2.72684565]),\n",
       " <BarContainer object of 10 artists>)"
      ]
     },
     "execution_count": 30,
     "metadata": {},
     "output_type": "execute_result"
    },
    {
     "data": {
      "image/png": "[encoded data removed]",
      "text/plain": [
       "<Figure size 432x288 with 1 Axes>"
      ]
     },
     "metadata": {
      "needs_background": "light"
     },
     "output_type": "display_data"
    }
   ],
   "source": [
    "plt.hist(z_group[\"Age\"])"
   ]
  },
  {
   "cell_type": "code",
   "execution_count": 31,
   "metadata": {
    "colab": {},
    "colab_type": "code",
    "id": "V5OjiQoAAkSM"
   },
   "outputs": [],
   "source": [
    "fill_na_mean = lambda x : x.fillna(x.mean()) # rellenamos los nan con el promedio de x"
   ]
  },
  {
   "cell_type": "code",
   "execution_count": 32,
   "metadata": {
    "colab": {
     "base_uri": "https://localhost:8080/",
     "height": 419
    },
    "colab_type": "code",
    "id": "Jt30Dhi7AkSN",
    "outputId": "ca1ea0dc-e6fe-4fbc-a412-9629628408b4"
   },
   "outputs": [
    {
     "data": {
      "text/html": [
       "<div>\n",
       "<style scoped>\n",
       "    .dataframe tbody tr th:only-of-type {\n",
       "        vertical-align: middle;\n",
       "    }\n",
       "\n",
       "    .dataframe tbody tr th {\n",
       "        vertical-align: top;\n",
       "    }\n",
       "\n",
       "    .dataframe thead th {\n",
       "        text-align: right;\n",
       "    }\n",
       "</style>\n",
       "<table border=\"1\" class=\"dataframe\">\n",
       "  <thead>\n",
       "    <tr style=\"text-align: right;\">\n",
       "      <th></th>\n",
       "      <th>Height</th>\n",
       "      <th>Weight</th>\n",
       "      <th>Age</th>\n",
       "      <th>Income</th>\n",
       "    </tr>\n",
       "  </thead>\n",
       "  <tbody>\n",
       "    <tr>\n",
       "      <th>0</th>\n",
       "      <td>176.220185</td>\n",
       "      <td>113.694813</td>\n",
       "      <td>27.334143</td>\n",
       "      <td>18478.005491</td>\n",
       "    </tr>\n",
       "    <tr>\n",
       "      <th>1</th>\n",
       "      <td>162.932536</td>\n",
       "      <td>99.865824</td>\n",
       "      <td>21.851728</td>\n",
       "      <td>18645.318805</td>\n",
       "    </tr>\n",
       "    <tr>\n",
       "      <th>2</th>\n",
       "      <td>183.862834</td>\n",
       "      <td>67.244074</td>\n",
       "      <td>24.715682</td>\n",
       "      <td>19628.721774</td>\n",
       "    </tr>\n",
       "    <tr>\n",
       "      <th>3</th>\n",
       "      <td>124.001853</td>\n",
       "      <td>83.667837</td>\n",
       "      <td>36.805751</td>\n",
       "      <td>19725.962136</td>\n",
       "    </tr>\n",
       "    <tr>\n",
       "      <th>4</th>\n",
       "      <td>192.678320</td>\n",
       "      <td>65.885088</td>\n",
       "      <td>32.107050</td>\n",
       "      <td>19837.717796</td>\n",
       "    </tr>\n",
       "    <tr>\n",
       "      <th>...</th>\n",
       "      <td>...</td>\n",
       "      <td>...</td>\n",
       "      <td>...</td>\n",
       "      <td>...</td>\n",
       "    </tr>\n",
       "    <tr>\n",
       "      <th>495</th>\n",
       "      <td>177.798504</td>\n",
       "      <td>41.626966</td>\n",
       "      <td>37.538020</td>\n",
       "      <td>18884.661293</td>\n",
       "    </tr>\n",
       "    <tr>\n",
       "      <th>496</th>\n",
       "      <td>129.928247</td>\n",
       "      <td>29.165575</td>\n",
       "      <td>19.852472</td>\n",
       "      <td>18884.920704</td>\n",
       "    </tr>\n",
       "    <tr>\n",
       "      <th>497</th>\n",
       "      <td>146.418830</td>\n",
       "      <td>37.566346</td>\n",
       "      <td>27.063798</td>\n",
       "      <td>18762.825077</td>\n",
       "    </tr>\n",
       "    <tr>\n",
       "      <th>498</th>\n",
       "      <td>206.581134</td>\n",
       "      <td>68.073077</td>\n",
       "      <td>25.705735</td>\n",
       "      <td>18418.007601</td>\n",
       "    </tr>\n",
       "    <tr>\n",
       "      <th>499</th>\n",
       "      <td>119.390657</td>\n",
       "      <td>34.001503</td>\n",
       "      <td>24.086701</td>\n",
       "      <td>20501.203056</td>\n",
       "    </tr>\n",
       "  </tbody>\n",
       "</table>\n",
       "<p>500 rows × 4 columns</p>\n",
       "</div>"
      ],
      "text/plain": [
       "         Height      Weight        Age        Income\n",
       "0    176.220185  113.694813  27.334143  18478.005491\n",
       "1    162.932536   99.865824  21.851728  18645.318805\n",
       "2    183.862834   67.244074  24.715682  19628.721774\n",
       "3    124.001853   83.667837  36.805751  19725.962136\n",
       "4    192.678320   65.885088  32.107050  19837.717796\n",
       "..          ...         ...        ...           ...\n",
       "495  177.798504   41.626966  37.538020  18884.661293\n",
       "496  129.928247   29.165575  19.852472  18884.920704\n",
       "497  146.418830   37.566346  27.063798  18762.825077\n",
       "498  206.581134   68.073077  25.705735  18418.007601\n",
       "499  119.390657   34.001503  24.086701  20501.203056\n",
       "\n",
       "[500 rows x 4 columns]"
      ]
     },
     "execution_count": 32,
     "metadata": {},
     "output_type": "execute_result"
    }
   ],
   "source": [
    "double_group.transform(fill_na_mean)"
   ]
  },
  {
   "cell_type": "markdown",
   "metadata": {
    "colab_type": "text",
    "id": "REgLbwFpAkSO"
   },
   "source": [
    "## Operaciones diversas muy útiles"
   ]
  },
  {
   "cell_type": "code",
   "execution_count": 33,
   "metadata": {
    "colab": {
     "base_uri": "https://localhost:8080/",
     "height": 235
    },
    "colab_type": "code",
    "id": "Onxbpf_5AkSO",
    "outputId": "ec3f40b7-5e5e-4674-b0a8-01963860af19"
   },
   "outputs": [
    {
     "data": {
      "text/html": [
       "<div>\n",
       "<style scoped>\n",
       "    .dataframe tbody tr th:only-of-type {\n",
       "        vertical-align: middle;\n",
       "    }\n",
       "\n",
       "    .dataframe tbody tr th {\n",
       "        vertical-align: top;\n",
       "    }\n",
       "\n",
       "    .dataframe thead th {\n",
       "        text-align: right;\n",
       "    }\n",
       "</style>\n",
       "<table border=\"1\" class=\"dataframe\">\n",
       "  <thead>\n",
       "    <tr style=\"text-align: right;\">\n",
       "      <th></th>\n",
       "      <th>Gender</th>\n",
       "      <th>Economic Status</th>\n",
       "      <th>Height</th>\n",
       "      <th>Weight</th>\n",
       "      <th>Age</th>\n",
       "      <th>Income</th>\n",
       "    </tr>\n",
       "  </thead>\n",
       "  <tbody>\n",
       "    <tr>\n",
       "      <th>0</th>\n",
       "      <td>Male</td>\n",
       "      <td>Rich</td>\n",
       "      <td>176.220185</td>\n",
       "      <td>113.694813</td>\n",
       "      <td>27.334143</td>\n",
       "      <td>18478.005491</td>\n",
       "    </tr>\n",
       "    <tr>\n",
       "      <th>1</th>\n",
       "      <td>Male</td>\n",
       "      <td>Poor</td>\n",
       "      <td>162.932536</td>\n",
       "      <td>99.865824</td>\n",
       "      <td>21.851728</td>\n",
       "      <td>18645.318805</td>\n",
       "    </tr>\n",
       "    <tr>\n",
       "      <th>2</th>\n",
       "      <td>Female</td>\n",
       "      <td>Rich</td>\n",
       "      <td>183.862834</td>\n",
       "      <td>67.244074</td>\n",
       "      <td>24.715682</td>\n",
       "      <td>19628.721774</td>\n",
       "    </tr>\n",
       "    <tr>\n",
       "      <th>3</th>\n",
       "      <td>Female</td>\n",
       "      <td>Middle Class</td>\n",
       "      <td>124.001853</td>\n",
       "      <td>83.667837</td>\n",
       "      <td>36.805751</td>\n",
       "      <td>19725.962136</td>\n",
       "    </tr>\n",
       "    <tr>\n",
       "      <th>4</th>\n",
       "      <td>Female</td>\n",
       "      <td>Poor</td>\n",
       "      <td>192.678320</td>\n",
       "      <td>65.885088</td>\n",
       "      <td>32.107050</td>\n",
       "      <td>19837.717796</td>\n",
       "    </tr>\n",
       "    <tr>\n",
       "      <th>5</th>\n",
       "      <td>Male</td>\n",
       "      <td>Middle Class</td>\n",
       "      <td>180.106162</td>\n",
       "      <td>95.160925</td>\n",
       "      <td>25.657347</td>\n",
       "      <td>20283.989203</td>\n",
       "    </tr>\n",
       "  </tbody>\n",
       "</table>\n",
       "</div>"
      ],
      "text/plain": [
       "   Gender Economic Status      Height      Weight        Age        Income\n",
       "0    Male            Rich  176.220185  113.694813  27.334143  18478.005491\n",
       "1    Male            Poor  162.932536   99.865824  21.851728  18645.318805\n",
       "2  Female            Rich  183.862834   67.244074  24.715682  19628.721774\n",
       "3  Female    Middle Class  124.001853   83.667837  36.805751  19725.962136\n",
       "4  Female            Poor  192.678320   65.885088  32.107050  19837.717796\n",
       "5    Male    Middle Class  180.106162   95.160925  25.657347  20283.989203"
      ]
     },
     "execution_count": 33,
     "metadata": {},
     "output_type": "execute_result"
    }
   ],
   "source": [
    "# nos devuelve la primera fila de los objetos\n",
    "double_group.head(1) "
   ]
  },
  {
   "cell_type": "code",
   "execution_count": 34,
   "metadata": {
    "colab": {
     "base_uri": "https://localhost:8080/",
     "height": 235
    },
    "colab_type": "code",
    "id": "srDlzkTjAkSP",
    "outputId": "7c3e78ed-0525-4c24-d3e5-ffd788897744"
   },
   "outputs": [
    {
     "data": {
      "text/html": [
       "<div>\n",
       "<style scoped>\n",
       "    .dataframe tbody tr th:only-of-type {\n",
       "        vertical-align: middle;\n",
       "    }\n",
       "\n",
       "    .dataframe tbody tr th {\n",
       "        vertical-align: top;\n",
       "    }\n",
       "\n",
       "    .dataframe thead th {\n",
       "        text-align: right;\n",
       "    }\n",
       "</style>\n",
       "<table border=\"1\" class=\"dataframe\">\n",
       "  <thead>\n",
       "    <tr style=\"text-align: right;\">\n",
       "      <th></th>\n",
       "      <th>Gender</th>\n",
       "      <th>Economic Status</th>\n",
       "      <th>Height</th>\n",
       "      <th>Weight</th>\n",
       "      <th>Age</th>\n",
       "      <th>Income</th>\n",
       "    </tr>\n",
       "  </thead>\n",
       "  <tbody>\n",
       "    <tr>\n",
       "      <th>489</th>\n",
       "      <td>Male</td>\n",
       "      <td>Middle Class</td>\n",
       "      <td>136.113608</td>\n",
       "      <td>78.116833</td>\n",
       "      <td>29.187212</td>\n",
       "      <td>21010.056616</td>\n",
       "    </tr>\n",
       "    <tr>\n",
       "      <th>492</th>\n",
       "      <td>Female</td>\n",
       "      <td>Poor</td>\n",
       "      <td>238.614734</td>\n",
       "      <td>59.930729</td>\n",
       "      <td>20.886729</td>\n",
       "      <td>19289.415292</td>\n",
       "    </tr>\n",
       "    <tr>\n",
       "      <th>495</th>\n",
       "      <td>Male</td>\n",
       "      <td>Rich</td>\n",
       "      <td>177.798504</td>\n",
       "      <td>41.626966</td>\n",
       "      <td>37.538020</td>\n",
       "      <td>18884.661293</td>\n",
       "    </tr>\n",
       "    <tr>\n",
       "      <th>497</th>\n",
       "      <td>Female</td>\n",
       "      <td>Rich</td>\n",
       "      <td>146.418830</td>\n",
       "      <td>37.566346</td>\n",
       "      <td>27.063798</td>\n",
       "      <td>18762.825077</td>\n",
       "    </tr>\n",
       "    <tr>\n",
       "      <th>498</th>\n",
       "      <td>Female</td>\n",
       "      <td>Middle Class</td>\n",
       "      <td>206.581134</td>\n",
       "      <td>68.073077</td>\n",
       "      <td>25.705735</td>\n",
       "      <td>18418.007601</td>\n",
       "    </tr>\n",
       "    <tr>\n",
       "      <th>499</th>\n",
       "      <td>Male</td>\n",
       "      <td>Poor</td>\n",
       "      <td>119.390657</td>\n",
       "      <td>34.001503</td>\n",
       "      <td>24.086701</td>\n",
       "      <td>20501.203056</td>\n",
       "    </tr>\n",
       "  </tbody>\n",
       "</table>\n",
       "</div>"
      ],
      "text/plain": [
       "     Gender Economic Status      Height     Weight        Age        Income\n",
       "489    Male    Middle Class  136.113608  78.116833  29.187212  21010.056616\n",
       "492  Female            Poor  238.614734  59.930729  20.886729  19289.415292\n",
       "495    Male            Rich  177.798504  41.626966  37.538020  18884.661293\n",
       "497  Female            Rich  146.418830  37.566346  27.063798  18762.825077\n",
       "498  Female    Middle Class  206.581134  68.073077  25.705735  18418.007601\n",
       "499    Male            Poor  119.390657  34.001503  24.086701  20501.203056"
      ]
     },
     "execution_count": 34,
     "metadata": {},
     "output_type": "execute_result"
    }
   ],
   "source": [
    "# la ultima fila del dataframe, la ultima muher pobre, la ultima mujer rica, la ultima mujer de clase media etc\n",
    "double_group.tail(1) "
   ]
  },
  {
   "cell_type": "code",
   "execution_count": 35,
   "metadata": {
    "colab": {
     "base_uri": "https://localhost:8080/",
     "height": 266
    },
    "colab_type": "code",
    "id": "PUzcau-IAkSQ",
    "outputId": "b6414924-5c52-4957-ca75-e482fa6bb218"
   },
   "outputs": [
    {
     "data": {
      "text/html": [
       "<div>\n",
       "<style scoped>\n",
       "    .dataframe tbody tr th:only-of-type {\n",
       "        vertical-align: middle;\n",
       "    }\n",
       "\n",
       "    .dataframe tbody tr th {\n",
       "        vertical-align: top;\n",
       "    }\n",
       "\n",
       "    .dataframe thead th {\n",
       "        text-align: right;\n",
       "    }\n",
       "</style>\n",
       "<table border=\"1\" class=\"dataframe\">\n",
       "  <thead>\n",
       "    <tr style=\"text-align: right;\">\n",
       "      <th></th>\n",
       "      <th></th>\n",
       "      <th>Height</th>\n",
       "      <th>Weight</th>\n",
       "      <th>Age</th>\n",
       "      <th>Income</th>\n",
       "    </tr>\n",
       "    <tr>\n",
       "      <th>Gender</th>\n",
       "      <th>Economic Status</th>\n",
       "      <th></th>\n",
       "      <th></th>\n",
       "      <th></th>\n",
       "      <th></th>\n",
       "    </tr>\n",
       "  </thead>\n",
       "  <tbody>\n",
       "    <tr>\n",
       "      <th rowspan=\"3\" valign=\"top\">Female</th>\n",
       "      <th>Middle Class</th>\n",
       "      <td>183.769034</td>\n",
       "      <td>105.035640</td>\n",
       "      <td>45.194150</td>\n",
       "      <td>19962.458971</td>\n",
       "    </tr>\n",
       "    <tr>\n",
       "      <th>Poor</th>\n",
       "      <td>154.457645</td>\n",
       "      <td>79.259829</td>\n",
       "      <td>33.694231</td>\n",
       "      <td>20890.594225</td>\n",
       "    </tr>\n",
       "    <tr>\n",
       "      <th>Rich</th>\n",
       "      <td>170.479699</td>\n",
       "      <td>43.772588</td>\n",
       "      <td>6.792729</td>\n",
       "      <td>18755.441272</td>\n",
       "    </tr>\n",
       "    <tr>\n",
       "      <th rowspan=\"3\" valign=\"top\">Male</th>\n",
       "      <th>Middle Class</th>\n",
       "      <td>147.486997</td>\n",
       "      <td>109.919829</td>\n",
       "      <td>46.001835</td>\n",
       "      <td>18058.075292</td>\n",
       "    </tr>\n",
       "    <tr>\n",
       "      <th>Poor</th>\n",
       "      <td>131.501486</td>\n",
       "      <td>49.296277</td>\n",
       "      <td>40.326354</td>\n",
       "      <td>20072.404523</td>\n",
       "    </tr>\n",
       "    <tr>\n",
       "      <th>Rich</th>\n",
       "      <td>177.822369</td>\n",
       "      <td>62.431440</td>\n",
       "      <td>13.984885</td>\n",
       "      <td>19120.737564</td>\n",
       "    </tr>\n",
       "  </tbody>\n",
       "</table>\n",
       "</div>"
      ],
      "text/plain": [
       "                            Height      Weight        Age        Income\n",
       "Gender Economic Status                                                 \n",
       "Female Middle Class     183.769034  105.035640  45.194150  19962.458971\n",
       "       Poor             154.457645   79.259829  33.694231  20890.594225\n",
       "       Rich             170.479699   43.772588   6.792729  18755.441272\n",
       "Male   Middle Class     147.486997  109.919829  46.001835  18058.075292\n",
       "       Poor             131.501486   49.296277  40.326354  20072.404523\n",
       "       Rich             177.822369   62.431440  13.984885  19120.737564"
      ]
     },
     "execution_count": 35,
     "metadata": {},
     "output_type": "execute_result"
    }
   ],
   "source": [
    "# el elemento 32 del dataframe\n",
    "double_group.nth(32) "
   ]
  },
  {
   "cell_type": "code",
   "execution_count": 36,
   "metadata": {
    "colab": {
     "base_uri": "https://localhost:8080/",
     "height": 142
    },
    "colab_type": "code",
    "id": "TLvuUCwlAkSR",
    "outputId": "f4db7972-2a76-4a61-9040-8b0ea79773f0"
   },
   "outputs": [
    {
     "data": {
      "text/html": [
       "<div>\n",
       "<style scoped>\n",
       "    .dataframe tbody tr th:only-of-type {\n",
       "        vertical-align: middle;\n",
       "    }\n",
       "\n",
       "    .dataframe tbody tr th {\n",
       "        vertical-align: top;\n",
       "    }\n",
       "\n",
       "    .dataframe thead th {\n",
       "        text-align: right;\n",
       "    }\n",
       "</style>\n",
       "<table border=\"1\" class=\"dataframe\">\n",
       "  <thead>\n",
       "    <tr style=\"text-align: right;\">\n",
       "      <th></th>\n",
       "      <th></th>\n",
       "      <th>Height</th>\n",
       "      <th>Weight</th>\n",
       "      <th>Age</th>\n",
       "      <th>Income</th>\n",
       "    </tr>\n",
       "    <tr>\n",
       "      <th>Gender</th>\n",
       "      <th>Economic Status</th>\n",
       "      <th></th>\n",
       "      <th></th>\n",
       "      <th></th>\n",
       "      <th></th>\n",
       "    </tr>\n",
       "  </thead>\n",
       "  <tbody>\n",
       "    <tr>\n",
       "      <th>Female</th>\n",
       "      <th>Poor</th>\n",
       "      <td>106.852342</td>\n",
       "      <td>93.066757</td>\n",
       "      <td>18.941440</td>\n",
       "      <td>20230.530265</td>\n",
       "    </tr>\n",
       "    <tr>\n",
       "      <th>Male</th>\n",
       "      <th>Middle Class</th>\n",
       "      <td>213.414304</td>\n",
       "      <td>79.325943</td>\n",
       "      <td>17.561215</td>\n",
       "      <td>20331.376830</td>\n",
       "    </tr>\n",
       "  </tbody>\n",
       "</table>\n",
       "</div>"
      ],
      "text/plain": [
       "                            Height     Weight        Age        Income\n",
       "Gender Economic Status                                                \n",
       "Female Poor             106.852342  93.066757  18.941440  20230.530265\n",
       "Male   Middle Class     213.414304  79.325943  17.561215  20331.376830"
      ]
     },
     "execution_count": 36,
     "metadata": {},
     "output_type": "execute_result"
    }
   ],
   "source": [
    "double_group.nth(82)"
   ]
  },
  {
   "cell_type": "code",
   "execution_count": 37,
   "metadata": {
    "colab": {},
    "colab_type": "code",
    "id": "Lm1IS7UeAkSS"
   },
   "outputs": [],
   "source": [
    "# ordenamos por valores de edad e ingresos\n",
    "data_sorted = data.sort_values([\"Age\", \"Income\"]) "
   ]
  },
  {
   "cell_type": "code",
   "execution_count": 38,
   "metadata": {
    "colab": {
     "base_uri": "https://localhost:8080/",
     "height": 359
    },
    "colab_type": "code",
    "id": "_E618lUBAkST",
    "outputId": "bb9cd800-a233-4f86-b033-cfb085b09f2d"
   },
   "outputs": [
    {
     "data": {
      "text/html": [
       "<div>\n",
       "<style scoped>\n",
       "    .dataframe tbody tr th:only-of-type {\n",
       "        vertical-align: middle;\n",
       "    }\n",
       "\n",
       "    .dataframe tbody tr th {\n",
       "        vertical-align: top;\n",
       "    }\n",
       "\n",
       "    .dataframe thead th {\n",
       "        text-align: right;\n",
       "    }\n",
       "</style>\n",
       "<table border=\"1\" class=\"dataframe\">\n",
       "  <thead>\n",
       "    <tr style=\"text-align: right;\">\n",
       "      <th></th>\n",
       "      <th>Gender</th>\n",
       "      <th>Economic Status</th>\n",
       "      <th>Height</th>\n",
       "      <th>Weight</th>\n",
       "      <th>Age</th>\n",
       "      <th>Income</th>\n",
       "    </tr>\n",
       "  </thead>\n",
       "  <tbody>\n",
       "    <tr>\n",
       "      <th>407</th>\n",
       "      <td>Male</td>\n",
       "      <td>Poor</td>\n",
       "      <td>178.625363</td>\n",
       "      <td>38.939845</td>\n",
       "      <td>-6.246179</td>\n",
       "      <td>18824.071443</td>\n",
       "    </tr>\n",
       "    <tr>\n",
       "      <th>185</th>\n",
       "      <td>Female</td>\n",
       "      <td>Rich</td>\n",
       "      <td>157.234304</td>\n",
       "      <td>87.831338</td>\n",
       "      <td>-1.020568</td>\n",
       "      <td>19635.501968</td>\n",
       "    </tr>\n",
       "    <tr>\n",
       "      <th>24</th>\n",
       "      <td>Female</td>\n",
       "      <td>Middle Class</td>\n",
       "      <td>183.539801</td>\n",
       "      <td>55.690537</td>\n",
       "      <td>0.350380</td>\n",
       "      <td>20582.722085</td>\n",
       "    </tr>\n",
       "    <tr>\n",
       "      <th>8</th>\n",
       "      <td>Female</td>\n",
       "      <td>Poor</td>\n",
       "      <td>179.990953</td>\n",
       "      <td>27.369654</td>\n",
       "      <td>3.399136</td>\n",
       "      <td>21121.745779</td>\n",
       "    </tr>\n",
       "    <tr>\n",
       "      <th>268</th>\n",
       "      <td>Female</td>\n",
       "      <td>Middle Class</td>\n",
       "      <td>189.550080</td>\n",
       "      <td>58.716479</td>\n",
       "      <td>3.864299</td>\n",
       "      <td>18860.813686</td>\n",
       "    </tr>\n",
       "    <tr>\n",
       "      <th>213</th>\n",
       "      <td>Female</td>\n",
       "      <td>Poor</td>\n",
       "      <td>176.639689</td>\n",
       "      <td>78.136720</td>\n",
       "      <td>4.295738</td>\n",
       "      <td>18693.194617</td>\n",
       "    </tr>\n",
       "    <tr>\n",
       "      <th>387</th>\n",
       "      <td>Male</td>\n",
       "      <td>Middle Class</td>\n",
       "      <td>140.252092</td>\n",
       "      <td>86.566088</td>\n",
       "      <td>5.410926</td>\n",
       "      <td>19799.514588</td>\n",
       "    </tr>\n",
       "    <tr>\n",
       "      <th>323</th>\n",
       "      <td>Female</td>\n",
       "      <td>Rich</td>\n",
       "      <td>185.975491</td>\n",
       "      <td>48.284769</td>\n",
       "      <td>6.336169</td>\n",
       "      <td>20425.783388</td>\n",
       "    </tr>\n",
       "    <tr>\n",
       "      <th>469</th>\n",
       "      <td>Female</td>\n",
       "      <td>Rich</td>\n",
       "      <td>108.800725</td>\n",
       "      <td>34.729674</td>\n",
       "      <td>6.446399</td>\n",
       "      <td>18261.925440</td>\n",
       "    </tr>\n",
       "    <tr>\n",
       "      <th>228</th>\n",
       "      <td>Female</td>\n",
       "      <td>Rich</td>\n",
       "      <td>170.479699</td>\n",
       "      <td>43.772588</td>\n",
       "      <td>6.792729</td>\n",
       "      <td>18755.441272</td>\n",
       "    </tr>\n",
       "  </tbody>\n",
       "</table>\n",
       "</div>"
      ],
      "text/plain": [
       "     Gender Economic Status      Height     Weight       Age        Income\n",
       "407    Male            Poor  178.625363  38.939845 -6.246179  18824.071443\n",
       "185  Female            Rich  157.234304  87.831338 -1.020568  19635.501968\n",
       "24   Female    Middle Class  183.539801  55.690537  0.350380  20582.722085\n",
       "8    Female            Poor  179.990953  27.369654  3.399136  21121.745779\n",
       "268  Female    Middle Class  189.550080  58.716479  3.864299  18860.813686\n",
       "213  Female            Poor  176.639689  78.136720  4.295738  18693.194617\n",
       "387    Male    Middle Class  140.252092  86.566088  5.410926  19799.514588\n",
       "323  Female            Rich  185.975491  48.284769  6.336169  20425.783388\n",
       "469  Female            Rich  108.800725  34.729674  6.446399  18261.925440\n",
       "228  Female            Rich  170.479699  43.772588  6.792729  18755.441272"
      ]
     },
     "execution_count": 38,
     "metadata": {},
     "output_type": "execute_result"
    }
   ],
   "source": [
    "data_sorted.head(10)"
   ]
  },
  {
   "cell_type": "code",
   "execution_count": 39,
   "metadata": {
    "colab": {},
    "colab_type": "code",
    "id": "p7TM9sRqAkSU"
   },
   "outputs": [],
   "source": [
    "# agrupamos por genero los datos ordenados\n",
    "age_grouped = data_sorted.groupby(\"Gender\") "
   ]
  },
  {
   "cell_type": "code",
   "execution_count": 40,
   "metadata": {
    "colab": {
     "base_uri": "https://localhost:8080/",
     "height": 111
    },
    "colab_type": "code",
    "id": "xilQDYDuAkSU",
    "outputId": "9d8dba61-abc3-470f-d137-38706f7ddd56"
   },
   "outputs": [
    {
     "data": {
      "text/html": [
       "<div>\n",
       "<style scoped>\n",
       "    .dataframe tbody tr th:only-of-type {\n",
       "        vertical-align: middle;\n",
       "    }\n",
       "\n",
       "    .dataframe tbody tr th {\n",
       "        vertical-align: top;\n",
       "    }\n",
       "\n",
       "    .dataframe thead th {\n",
       "        text-align: right;\n",
       "    }\n",
       "</style>\n",
       "<table border=\"1\" class=\"dataframe\">\n",
       "  <thead>\n",
       "    <tr style=\"text-align: right;\">\n",
       "      <th></th>\n",
       "      <th>Gender</th>\n",
       "      <th>Economic Status</th>\n",
       "      <th>Height</th>\n",
       "      <th>Weight</th>\n",
       "      <th>Age</th>\n",
       "      <th>Income</th>\n",
       "    </tr>\n",
       "  </thead>\n",
       "  <tbody>\n",
       "    <tr>\n",
       "      <th>407</th>\n",
       "      <td>Male</td>\n",
       "      <td>Poor</td>\n",
       "      <td>178.625363</td>\n",
       "      <td>38.939845</td>\n",
       "      <td>-6.246179</td>\n",
       "      <td>18824.071443</td>\n",
       "    </tr>\n",
       "    <tr>\n",
       "      <th>185</th>\n",
       "      <td>Female</td>\n",
       "      <td>Rich</td>\n",
       "      <td>157.234304</td>\n",
       "      <td>87.831338</td>\n",
       "      <td>-1.020568</td>\n",
       "      <td>19635.501968</td>\n",
       "    </tr>\n",
       "  </tbody>\n",
       "</table>\n",
       "</div>"
      ],
      "text/plain": [
       "     Gender Economic Status      Height     Weight       Age        Income\n",
       "407    Male            Poor  178.625363  38.939845 -6.246179  18824.071443\n",
       "185  Female            Rich  157.234304  87.831338 -1.020568  19635.501968"
      ]
     },
     "execution_count": 40,
     "metadata": {},
     "output_type": "execute_result"
    }
   ],
   "source": [
    "# ahora tenemos el hombre y mujer mas jovenes\n",
    "age_grouped.head(1) "
   ]
  },
  {
   "cell_type": "code",
   "execution_count": 41,
   "metadata": {
    "colab": {
     "base_uri": "https://localhost:8080/",
     "height": 111
    },
    "colab_type": "code",
    "id": "-f2hp-tVAkSV",
    "outputId": "12df5949-b1ab-444b-dfbe-5e86694ce039"
   },
   "outputs": [
    {
     "data": {
      "text/html": [
       "<div>\n",
       "<style scoped>\n",
       "    .dataframe tbody tr th:only-of-type {\n",
       "        vertical-align: middle;\n",
       "    }\n",
       "\n",
       "    .dataframe tbody tr th {\n",
       "        vertical-align: top;\n",
       "    }\n",
       "\n",
       "    .dataframe thead th {\n",
       "        text-align: right;\n",
       "    }\n",
       "</style>\n",
       "<table border=\"1\" class=\"dataframe\">\n",
       "  <thead>\n",
       "    <tr style=\"text-align: right;\">\n",
       "      <th></th>\n",
       "      <th>Gender</th>\n",
       "      <th>Economic Status</th>\n",
       "      <th>Height</th>\n",
       "      <th>Weight</th>\n",
       "      <th>Age</th>\n",
       "      <th>Income</th>\n",
       "    </tr>\n",
       "  </thead>\n",
       "  <tbody>\n",
       "    <tr>\n",
       "      <th>340</th>\n",
       "      <td>Male</td>\n",
       "      <td>Middle Class</td>\n",
       "      <td>190.929129</td>\n",
       "      <td>52.624974</td>\n",
       "      <td>60.853240</td>\n",
       "      <td>20295.886277</td>\n",
       "    </tr>\n",
       "    <tr>\n",
       "      <th>257</th>\n",
       "      <td>Female</td>\n",
       "      <td>Poor</td>\n",
       "      <td>141.188442</td>\n",
       "      <td>53.641482</td>\n",
       "      <td>61.505043</td>\n",
       "      <td>19278.253378</td>\n",
       "    </tr>\n",
       "  </tbody>\n",
       "</table>\n",
       "</div>"
      ],
      "text/plain": [
       "     Gender Economic Status      Height     Weight        Age        Income\n",
       "340    Male    Middle Class  190.929129  52.624974  60.853240  20295.886277\n",
       "257  Female            Poor  141.188442  53.641482  61.505043  19278.253378"
      ]
     },
     "execution_count": 41,
     "metadata": {},
     "output_type": "execute_result"
    }
   ],
   "source": [
    "# ahora tenemos el hombre y mujer mas viejos\n",
    "age_grouped.tail(1) "
   ]
  },
  {
   "cell_type": "markdown",
   "metadata": {
    "colab_type": "text",
    "id": "m6-5J5PaAkSW"
   },
   "source": [
    "# Conjunto de entrenamiento y conjunto de testing"
   ]
  },
  {
   "cell_type": "code",
   "execution_count": 42,
   "metadata": {
    "colab": {},
    "colab_type": "code",
    "id": "nUwo03aqAkSX"
   },
   "outputs": [],
   "source": [
    "# train = para calcular el modelo de 75 a 80%\n",
    "# test = para comparar el resultado con el modelo original de 25 a 20%\n",
    "\n",
    "data = pd.read_csv(\"/Users/jlpad/Desktop/BBDD/UDE/datasets/customer-churn-model/CustomerChurnModel.txt\")"
   ]
  },
  {
   "cell_type": "code",
   "execution_count": 43,
   "metadata": {
    "colab": {},
    "colab_type": "code",
    "id": "4JGk0tOCAkSY",
    "outputId": "b20a3f6f-635d-47d9-9218-1ee8391ba6bf"
   },
   "outputs": [
    {
     "data": {
      "text/plain": [
       "3333"
      ]
     },
     "execution_count": 43,
     "metadata": {},
     "output_type": "execute_result"
    }
   ],
   "source": [
    "# tamano de los datos\n",
    "len(data) "
   ]
  },
  {
   "cell_type": "markdown",
   "metadata": {
    "colab_type": "text",
    "id": "xyYlgyXNAkSZ"
   },
   "source": [
    "## 1-Dividir utilizando la distribución normal"
   ]
  },
  {
   "cell_type": "code",
   "execution_count": 44,
   "metadata": {
    "colab": {},
    "colab_type": "code",
    "id": "0USP9bsAAkSZ"
   },
   "outputs": [],
   "source": [
    "# creamos un vector de la misma longitud que nuestro dataframe 3333\n",
    "a = np.random.randn(len(data)) "
   ]
  },
  {
   "cell_type": "code",
   "execution_count": 45,
   "metadata": {
    "colab": {
     "base_uri": "https://localhost:8080/",
     "height": 350
    },
    "colab_type": "code",
    "id": "t3Tdw4SAAkSa",
    "outputId": "68053f0c-2a9a-4b87-905d-7eef21808580"
   },
   "outputs": [
    {
     "data": {
      "text/plain": [
       "(array([ 34., 161., 388., 708., 869., 709., 326.,  98.,  36.,   4.]),\n",
       " array([-2.86822412, -2.21886234, -1.56950056, -0.92013878, -0.270777  ,\n",
       "         0.37858478,  1.02794656,  1.67730834,  2.32667012,  2.9760319 ,\n",
       "         3.62539368]),\n",
       " <BarContainer object of 10 artists>)"
      ]
     },
     "execution_count": 45,
     "metadata": {},
     "output_type": "execute_result"
    },
    {
     "data": {
      "image/png": "[encoded data removed]",
      "text/plain": [
       "<Figure size 432x288 with 1 Axes>"
      ]
     },
     "metadata": {
      "needs_background": "light"
     },
     "output_type": "display_data"
    }
   ],
   "source": [
    "# vemos el histograma de los datos\n",
    "plt.hist(a) "
   ]
  },
  {
   "cell_type": "code",
   "execution_count": 46,
   "metadata": {
    "colab": {},
    "colab_type": "code",
    "id": "ZOjx59etAkSa"
   },
   "outputs": [],
   "source": [
    "check = (a<0.75) # No es el 75% de los datos, son los números que son < 0.75!!! "
   ]
  },
  {
   "cell_type": "code",
   "execution_count": 47,
   "metadata": {
    "colab": {
     "base_uri": "https://localhost:8080/",
     "height": 969
    },
    "colab_type": "code",
    "id": "LAVp0N0JAkSb",
    "outputId": "ea86ea28-0907-405d-c41e-292975e12ad2"
   },
   "outputs": [
    {
     "data": {
      "text/plain": [
       "array([ True,  True, False, ...,  True,  True,  True])"
      ]
     },
     "execution_count": 47,
     "metadata": {},
     "output_type": "execute_result"
    }
   ],
   "source": [
    "check"
   ]
  },
  {
   "cell_type": "code",
   "execution_count": 48,
   "metadata": {
    "colab": {
     "base_uri": "https://localhost:8080/",
     "height": 316
    },
    "colab_type": "code",
    "id": "iWhUObc0AkSc",
    "outputId": "241296c4-8812-4e44-b70f-f01e4b7deb9b"
   },
   "outputs": [
    {
     "data": {
      "text/plain": [
       "(array([ 745.,    0.,    0.,    0.,    0.,    0.,    0.,    0.,    0.,\n",
       "        2588.]),\n",
       " array([0. , 0.1, 0.2, 0.3, 0.4, 0.5, 0.6, 0.7, 0.8, 0.9, 1. ]),\n",
       " <BarContainer object of 10 artists>)"
      ]
     },
     "execution_count": 48,
     "metadata": {},
     "output_type": "execute_result"
    },
    {
     "data": {
      "image/png": "[encoded data removed]",
      "text/plain": [
       "<Figure size 432x288 with 1 Axes>"
      ]
     },
     "metadata": {
      "needs_background": "light"
     },
     "output_type": "display_data"
    }
   ],
   "source": [
    "plt.hist(check.astype(int)) "
   ]
  },
  {
   "cell_type": "code",
   "execution_count": 49,
   "metadata": {
    "colab": {},
    "colab_type": "code",
    "id": "GRqOOoG2AkSc"
   },
   "outputs": [],
   "source": [
    "training = data[check] # los que cumplen la condicion de mayores a 75%\n",
    "testing = data[~check] # los que no cumplen la condicion de menores a 75%"
   ]
  },
  {
   "cell_type": "code",
   "execution_count": 50,
   "metadata": {
    "colab": {
     "base_uri": "https://localhost:8080/",
     "height": 34
    },
    "colab_type": "code",
    "id": "Ribx2PC1AkSd",
    "outputId": "6233c63b-3442-463d-9e2b-b9d68bd000a0"
   },
   "outputs": [
    {
     "data": {
      "text/plain": [
       "2588"
      ]
     },
     "execution_count": 50,
     "metadata": {},
     "output_type": "execute_result"
    }
   ],
   "source": [
    "len(training)"
   ]
  },
  {
   "cell_type": "code",
   "execution_count": 51,
   "metadata": {
    "colab": {
     "base_uri": "https://localhost:8080/",
     "height": 34
    },
    "colab_type": "code",
    "id": "0UnqiUWOAkSe",
    "outputId": "b08d645a-01c5-40fc-9bcd-e13cff80bb71"
   },
   "outputs": [
    {
     "data": {
      "text/plain": [
       "745"
      ]
     },
     "execution_count": 51,
     "metadata": {},
     "output_type": "execute_result"
    }
   ],
   "source": [
    "len(testing)"
   ]
  },
  {
   "cell_type": "markdown",
   "metadata": {
    "colab_type": "text",
    "id": "1f2ToslqAkSf"
   },
   "source": [
    "## 2-Con la libreria sklearn"
   ]
  },
  {
   "cell_type": "code",
   "execution_count": 52,
   "metadata": {
    "colab": {},
    "colab_type": "code",
    "id": "26zoqG7RAkSf"
   },
   "outputs": [],
   "source": [
    "from sklearn.model_selection import train_test_split #"
   ]
  },
  {
   "cell_type": "code",
   "execution_count": 53,
   "metadata": {
    "colab": {},
    "colab_type": "code",
    "id": "aVojsIWeAkSg"
   },
   "outputs": [],
   "source": [
    "train, test = train_test_split(data, test_size = 0.2) # el 20% para test"
   ]
  },
  {
   "cell_type": "code",
   "execution_count": 54,
   "metadata": {
    "colab": {
     "base_uri": "https://localhost:8080/",
     "height": 34
    },
    "colab_type": "code",
    "id": "60Cjk1ifAkSg",
    "outputId": "127bd786-c53b-4382-973a-90f1b3bf0244"
   },
   "outputs": [
    {
     "data": {
      "text/plain": [
       "2666"
      ]
     },
     "execution_count": 54,
     "metadata": {},
     "output_type": "execute_result"
    }
   ],
   "source": [
    "len(train) # el 80%"
   ]
  },
  {
   "cell_type": "code",
   "execution_count": 55,
   "metadata": {
    "colab": {
     "base_uri": "https://localhost:8080/",
     "height": 34
    },
    "colab_type": "code",
    "id": "xWfmYLTNAkSn",
    "outputId": "ed19bc2b-5dbc-40fd-dcf3-0c4a816838ba"
   },
   "outputs": [
    {
     "data": {
      "text/plain": [
       "667"
      ]
     },
     "execution_count": 55,
     "metadata": {},
     "output_type": "execute_result"
    }
   ],
   "source": [
    "len(test) # el 20%"
   ]
  },
  {
   "cell_type": "markdown",
   "metadata": {
    "colab_type": "text",
    "id": "9l8-cogRAkSo"
   },
   "source": [
    "## 3-Usando una función de shuffle (mezclado) esta en sklearn\n"
   ]
  },
  {
   "cell_type": "code",
   "execution_count": 56,
   "metadata": {
    "colab": {
     "base_uri": "https://localhost:8080/",
     "height": 204
    },
    "colab_type": "code",
    "id": "hAwmSuggAkSp",
    "outputId": "68556d22-1833-44a7-8093-a88587991b76"
   },
   "outputs": [
    {
     "data": {
      "text/html": [
       "<div>\n",
       "<style scoped>\n",
       "    .dataframe tbody tr th:only-of-type {\n",
       "        vertical-align: middle;\n",
       "    }\n",
       "\n",
       "    .dataframe tbody tr th {\n",
       "        vertical-align: top;\n",
       "    }\n",
       "\n",
       "    .dataframe thead th {\n",
       "        text-align: right;\n",
       "    }\n",
       "</style>\n",
       "<table border=\"1\" class=\"dataframe\">\n",
       "  <thead>\n",
       "    <tr style=\"text-align: right;\">\n",
       "      <th></th>\n",
       "      <th>State</th>\n",
       "      <th>Account Length</th>\n",
       "      <th>Area Code</th>\n",
       "      <th>Phone</th>\n",
       "      <th>Int'l Plan</th>\n",
       "      <th>VMail Plan</th>\n",
       "      <th>VMail Message</th>\n",
       "      <th>Day Mins</th>\n",
       "      <th>Day Calls</th>\n",
       "      <th>Day Charge</th>\n",
       "      <th>...</th>\n",
       "      <th>Eve Calls</th>\n",
       "      <th>Eve Charge</th>\n",
       "      <th>Night Mins</th>\n",
       "      <th>Night Calls</th>\n",
       "      <th>Night Charge</th>\n",
       "      <th>Intl Mins</th>\n",
       "      <th>Intl Calls</th>\n",
       "      <th>Intl Charge</th>\n",
       "      <th>CustServ Calls</th>\n",
       "      <th>Churn?</th>\n",
       "    </tr>\n",
       "  </thead>\n",
       "  <tbody>\n",
       "    <tr>\n",
       "      <th>0</th>\n",
       "      <td>KS</td>\n",
       "      <td>128</td>\n",
       "      <td>415</td>\n",
       "      <td>382-4657</td>\n",
       "      <td>no</td>\n",
       "      <td>yes</td>\n",
       "      <td>25</td>\n",
       "      <td>265.1</td>\n",
       "      <td>110</td>\n",
       "      <td>45.07</td>\n",
       "      <td>...</td>\n",
       "      <td>99</td>\n",
       "      <td>16.78</td>\n",
       "      <td>244.7</td>\n",
       "      <td>91</td>\n",
       "      <td>11.01</td>\n",
       "      <td>10.0</td>\n",
       "      <td>3</td>\n",
       "      <td>2.70</td>\n",
       "      <td>1</td>\n",
       "      <td>False.</td>\n",
       "    </tr>\n",
       "    <tr>\n",
       "      <th>1</th>\n",
       "      <td>OH</td>\n",
       "      <td>107</td>\n",
       "      <td>415</td>\n",
       "      <td>371-7191</td>\n",
       "      <td>no</td>\n",
       "      <td>yes</td>\n",
       "      <td>26</td>\n",
       "      <td>161.6</td>\n",
       "      <td>123</td>\n",
       "      <td>27.47</td>\n",
       "      <td>...</td>\n",
       "      <td>103</td>\n",
       "      <td>16.62</td>\n",
       "      <td>254.4</td>\n",
       "      <td>103</td>\n",
       "      <td>11.45</td>\n",
       "      <td>13.7</td>\n",
       "      <td>3</td>\n",
       "      <td>3.70</td>\n",
       "      <td>1</td>\n",
       "      <td>False.</td>\n",
       "    </tr>\n",
       "    <tr>\n",
       "      <th>2</th>\n",
       "      <td>NJ</td>\n",
       "      <td>137</td>\n",
       "      <td>415</td>\n",
       "      <td>358-1921</td>\n",
       "      <td>no</td>\n",
       "      <td>no</td>\n",
       "      <td>0</td>\n",
       "      <td>243.4</td>\n",
       "      <td>114</td>\n",
       "      <td>41.38</td>\n",
       "      <td>...</td>\n",
       "      <td>110</td>\n",
       "      <td>10.30</td>\n",
       "      <td>162.6</td>\n",
       "      <td>104</td>\n",
       "      <td>7.32</td>\n",
       "      <td>12.2</td>\n",
       "      <td>5</td>\n",
       "      <td>3.29</td>\n",
       "      <td>0</td>\n",
       "      <td>False.</td>\n",
       "    </tr>\n",
       "    <tr>\n",
       "      <th>3</th>\n",
       "      <td>OH</td>\n",
       "      <td>84</td>\n",
       "      <td>408</td>\n",
       "      <td>375-9999</td>\n",
       "      <td>yes</td>\n",
       "      <td>no</td>\n",
       "      <td>0</td>\n",
       "      <td>299.4</td>\n",
       "      <td>71</td>\n",
       "      <td>50.90</td>\n",
       "      <td>...</td>\n",
       "      <td>88</td>\n",
       "      <td>5.26</td>\n",
       "      <td>196.9</td>\n",
       "      <td>89</td>\n",
       "      <td>8.86</td>\n",
       "      <td>6.6</td>\n",
       "      <td>7</td>\n",
       "      <td>1.78</td>\n",
       "      <td>2</td>\n",
       "      <td>False.</td>\n",
       "    </tr>\n",
       "    <tr>\n",
       "      <th>4</th>\n",
       "      <td>OK</td>\n",
       "      <td>75</td>\n",
       "      <td>415</td>\n",
       "      <td>330-6626</td>\n",
       "      <td>yes</td>\n",
       "      <td>no</td>\n",
       "      <td>0</td>\n",
       "      <td>166.7</td>\n",
       "      <td>113</td>\n",
       "      <td>28.34</td>\n",
       "      <td>...</td>\n",
       "      <td>122</td>\n",
       "      <td>12.61</td>\n",
       "      <td>186.9</td>\n",
       "      <td>121</td>\n",
       "      <td>8.41</td>\n",
       "      <td>10.1</td>\n",
       "      <td>3</td>\n",
       "      <td>2.73</td>\n",
       "      <td>3</td>\n",
       "      <td>False.</td>\n",
       "    </tr>\n",
       "  </tbody>\n",
       "</table>\n",
       "<p>5 rows × 21 columns</p>\n",
       "</div>"
      ],
      "text/plain": [
       "  State  Account Length  Area Code     Phone Int'l Plan VMail Plan  \\\n",
       "0    KS             128        415  382-4657         no        yes   \n",
       "1    OH             107        415  371-7191         no        yes   \n",
       "2    NJ             137        415  358-1921         no         no   \n",
       "3    OH              84        408  375-9999        yes         no   \n",
       "4    OK              75        415  330-6626        yes         no   \n",
       "\n",
       "   VMail Message  Day Mins  Day Calls  Day Charge  ...  Eve Calls  Eve Charge  \\\n",
       "0             25     265.1        110       45.07  ...         99       16.78   \n",
       "1             26     161.6        123       27.47  ...        103       16.62   \n",
       "2              0     243.4        114       41.38  ...        110       10.30   \n",
       "3              0     299.4         71       50.90  ...         88        5.26   \n",
       "4              0     166.7        113       28.34  ...        122       12.61   \n",
       "\n",
       "   Night Mins  Night Calls  Night Charge  Intl Mins  Intl Calls  Intl Charge  \\\n",
       "0       244.7           91         11.01       10.0           3         2.70   \n",
       "1       254.4          103         11.45       13.7           3         3.70   \n",
       "2       162.6          104          7.32       12.2           5         3.29   \n",
       "3       196.9           89          8.86        6.6           7         1.78   \n",
       "4       186.9          121          8.41       10.1           3         2.73   \n",
       "\n",
       "   CustServ Calls  Churn?  \n",
       "0               1  False.  \n",
       "1               1  False.  \n",
       "2               0  False.  \n",
       "3               2  False.  \n",
       "4               3  False.  \n",
       "\n",
       "[5 rows x 21 columns]"
      ]
     },
     "execution_count": 56,
     "metadata": {},
     "output_type": "execute_result"
    }
   ],
   "source": [
    "data.head()"
   ]
  },
  {
   "cell_type": "code",
   "execution_count": 57,
   "metadata": {
    "colab": {},
    "colab_type": "code",
    "id": "qa0z_ZJ6AkSp"
   },
   "outputs": [],
   "source": [
    "import sklearn"
   ]
  },
  {
   "cell_type": "code",
   "execution_count": 58,
   "metadata": {
    "colab": {},
    "colab_type": "code",
    "id": "yBX-tSSCAkSq"
   },
   "outputs": [],
   "source": [
    "data = sklearn.utils.shuffle(data)"
   ]
  },
  {
   "cell_type": "code",
   "execution_count": 59,
   "metadata": {
    "colab": {},
    "colab_type": "code",
    "id": "lkwfCbmSAkSr"
   },
   "outputs": [],
   "source": [
    "cut_id = int(0.75*len(data))\n",
    "train_data = data[:cut_id] # \n",
    "test_data = data[cut_id+1:]"
   ]
  },
  {
   "cell_type": "code",
   "execution_count": 60,
   "metadata": {
    "colab": {
     "base_uri": "https://localhost:8080/",
     "height": 34
    },
    "colab_type": "code",
    "id": "NuJVmGovAkSr",
    "outputId": "6fb2bfaf-e9c0-4de0-a154-f135f4823089"
   },
   "outputs": [
    {
     "data": {
      "text/plain": [
       "2499"
      ]
     },
     "execution_count": 60,
     "metadata": {},
     "output_type": "execute_result"
    }
   ],
   "source": [
    "len(train_data) # 75%"
   ]
  },
  {
   "cell_type": "code",
   "execution_count": 61,
   "metadata": {
    "colab": {
     "base_uri": "https://localhost:8080/",
     "height": 34
    },
    "colab_type": "code",
    "id": "ztoaBbOeAkSs",
    "outputId": "b3c609f2-fedc-4670-add3-51ca09418772"
   },
   "outputs": [
    {
     "data": {
      "text/plain": [
       "833"
      ]
     },
     "execution_count": 61,
     "metadata": {},
     "output_type": "execute_result"
    }
   ],
   "source": [
    "len(test_data) # 25%"
   ]
  }
 ],
 "metadata": {
  "colab": {
   "include_colab_link": true,
   "name": "T2 - 3 - Data Cleaning - Agrupación de datos.ipynb",
   "provenance": []
  },
  "kernelspec": {
   "display_name": "Python 3 (ipykernel)",
   "language": "python",
   "name": "python3"
  },
  "language_info": {
   "codemirror_mode": {
    "name": "ipython",
    "version": 3
   },
   "file_extension": ".py",
   "mimetype": "text/x-python",
   "name": "python",
   "nbconvert_exporter": "python",
   "pygments_lexer": "ipython3",
   "version": "3.9.12"
  }
 },
 "nbformat": 4,
 "nbformat_minor": 1
}
